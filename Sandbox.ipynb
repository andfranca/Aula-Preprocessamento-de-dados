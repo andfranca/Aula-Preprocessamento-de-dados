{
 "cells": [
  {
   "cell_type": "markdown",
   "id": "6fb34894",
   "metadata": {},
   "source": [
    "#### Alterar nome de colunas"
   ]
  },
  {
   "cell_type": "code",
   "execution_count": null,
   "id": "c35bd5a0",
   "metadata": {},
   "outputs": [],
   "source": [
    "import pandas as pd\n",
    "bd = bd.rename(columns={'nome_antigo': 'nome_novo'})"
   ]
  },
  {
   "cell_type": "markdown",
   "id": "a242b345",
   "metadata": {},
   "source": [
    "#### Alterar valores de variáveis"
   ]
  },
  {
   "cell_type": "code",
   "execution_count": null,
   "id": "65ecd402",
   "metadata": {},
   "outputs": [],
   "source": [
    "import pandas as pd\n",
    "bd['sexo'] = bd['sexo'].replace({'M': 'Masculino', 'F': 'Feminino'})"
   ]
  },
  {
   "cell_type": "markdown",
   "id": "39ec15ab",
   "metadata": {},
   "source": [
    "#### Criar faixa de valores (transformar numéricas em categóricas)"
   ]
  },
  {
   "cell_type": "code",
   "execution_count": 1,
   "id": "62c1e90e",
   "metadata": {},
   "outputs": [
    {
     "name": "stdout",
     "output_type": "stream",
     "text": [
      "   idade             faixa_etaria\n",
      "0      5  Crianças e adolescentes\n",
      "1     20           Jovens adultos\n",
      "2     35           Adultos jovens\n",
      "3     50          Adultos maduros\n",
      "4     70                   Idosos\n"
     ]
    }
   ],
   "source": [
    "#criando uma faixa de variável customizada\n",
    "\n",
    "import pandas as pd\n",
    "\n",
    "# Criando um dataframe de exemplo\n",
    "df = pd.DataFrame({'idade': [5, 20, 35, 50, 70]})\n",
    "\n",
    "# Definindo os limites das faixas customizadas\n",
    "limits = [0, 17, 25, 40, 60, 120]\n",
    "\n",
    "# Definindo os rótulos de cada intervalo\n",
    "labels = ['Crianças e adolescentes', 'Jovens adultos', 'Adultos jovens', 'Adultos maduros', 'Idosos']\n",
    "\n",
    "# Aplicando a função pd.cut()\n",
    "df['faixa_etaria'] = pd.cut(df['idade'], bins=limits, labels=labels)\n",
    "\n",
    "print(df)"
   ]
  },
  {
   "cell_type": "markdown",
   "id": "f597a7a7",
   "metadata": {},
   "source": [
    "#### Imput utilizando o sklearn"
   ]
  },
  {
   "cell_type": "code",
   "execution_count": null,
   "id": "2685f3c7",
   "metadata": {},
   "outputs": [],
   "source": [
    "#Imput utilizando o SKLEARN\n",
    "from sklearn.impute import SimpleImputer\n",
    "\n",
    "#Definir a estratégia de substituição\n",
    "substituir = SimpleImputer(missing_values=np.nan, strategy='mean')\n",
    "\n",
    "substituir = imputer.fit(base_dados[['VAL_SP','VAL_SH','US_TOT']])\n",
    "\n",
    "base_dados[['VAL_SP','VAL_SH','US_TOT']] = substituir.transform(base_dados[['VAL_SP','VAL_SH','US_TOT']])"
   ]
  },
  {
   "cell_type": "markdown",
   "id": "cadd1570",
   "metadata": {},
   "source": [
    "#### Verificar classes Label Encoder"
   ]
  },
  {
   "cell_type": "code",
   "execution_count": null,
   "id": "7890d055",
   "metadata": {},
   "outputs": [],
   "source": [
    "chave = label_encoder.classes_\n",
    "valor = label_encoder.transform(label_encoder.classes_)\n",
    "dicionario = dict(zip(chave, valor))\n",
    "print(dicionario)"
   ]
  },
  {
   "cell_type": "markdown",
   "id": "fddfc6e5",
   "metadata": {},
   "source": [
    "#### Criar novas variáveis baseadas nos valores das demais"
   ]
  },
  {
   "cell_type": "code",
   "execution_count": 2,
   "id": "9fb74ba6",
   "metadata": {},
   "outputs": [
    {
     "name": "stdout",
     "output_type": "stream",
     "text": [
      "   idade sexo     faixa etária\n",
      "0     18    M     18 a 29 anos\n",
      "1     25    F     18 a 29 anos\n",
      "2     30    F     30 a 39 anos\n",
      "3     40    M     40 a 49 anos\n",
      "4     50    F     50 a 59 anos\n",
      "5     60    M  60 anos ou mais\n"
     ]
    }
   ],
   "source": [
    "import pandas as pd\n",
    "\n",
    "# criando um DataFrame de exemplo\n",
    "data = {\"idade\": [18, 25, 30, 40, 50, 60],\n",
    "        \"sexo\": [\"M\", \"F\", \"F\", \"M\", \"F\", \"M\"]}\n",
    "df = pd.DataFrame(data)\n",
    "\n",
    "# definindo uma função para agrupar em faixas etárias\n",
    "def faixa_etaria(idade):\n",
    "    if idade < 18:\n",
    "        return \"Menor de idade\"\n",
    "    elif idade < 30:\n",
    "        return \"18 a 29 anos\"\n",
    "    elif idade < 40:\n",
    "        return \"30 a 39 anos\"\n",
    "    elif idade < 50:\n",
    "        return \"40 a 49 anos\"\n",
    "    elif idade < 60:\n",
    "        return \"50 a 59 anos\"\n",
    "    else:\n",
    "        return \"60 anos ou mais\"\n",
    "\n",
    "# aplicando a função para criar a nova coluna\n",
    "df[\"faixa etária\"] = df[\"idade\"].apply(faixa_etaria)\n",
    "\n",
    "print(df)"
   ]
  },
  {
   "cell_type": "markdown",
   "id": "1d2bebff",
   "metadata": {},
   "source": [
    "#### Salvar arquivo em CSV"
   ]
  },
  {
   "cell_type": "code",
   "execution_count": null,
   "id": "af6fa068",
   "metadata": {},
   "outputs": [],
   "source": [
    "base_dados.to_csv('nome.csv', index=False,decimal=\",\")"
   ]
  },
  {
   "cell_type": "markdown",
   "id": "6bfb34d3",
   "metadata": {},
   "source": [
    "#### Salvar arquivo em Excel"
   ]
  },
  {
   "cell_type": "code",
   "execution_count": null,
   "id": "e77037fe",
   "metadata": {},
   "outputs": [],
   "source": [
    "df.to_excel('nome.xlsx', index=False)"
   ]
  }
 ],
 "metadata": {
  "kernelspec": {
   "display_name": "Python 3 (ipykernel)",
   "language": "python",
   "name": "python3"
  },
  "language_info": {
   "codemirror_mode": {
    "name": "ipython",
    "version": 3
   },
   "file_extension": ".py",
   "mimetype": "text/x-python",
   "name": "python",
   "nbconvert_exporter": "python",
   "pygments_lexer": "ipython3",
   "version": "3.9.13"
  }
 },
 "nbformat": 4,
 "nbformat_minor": 5
}
