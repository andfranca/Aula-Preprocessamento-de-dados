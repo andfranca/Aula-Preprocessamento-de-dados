{
  "cells": [
    {
      "cell_type": "markdown",
      "id": "708df09e",
      "metadata": {
        "id": "708df09e"
      },
      "source": [
        "## Pré-Processamento de Dados\n",
        "[Anderson França](https://www.andersonfranca.me/)\n",
        "\n",
        "Os dados do mundo real geralmente possuem inconsistências, estão incompletos, com muitos ruídos e informações faltantes. Ao utilizar modelos e algoritmos de aprendizado de máquinas nesses dados, os resultados podem ser inconsistentes ou mesmo direcionar as decisões para um caminho totalmente errado. Valores duplicados, ausentes ou outliers podem fornecer uma visão incorreta das análises gerais.  \n",
        "\n",
        "\n",
        "As decisões de qualidade devem ser baseadas em dados corretos e consistentes e o **pré-processamento de dados** é uma das etapas mais importantes do aprendizado de máquinas e garante a qualidade dos dados. Na área de dados, se colocar dados ruins, teremos resultados ruins (*garbage in, garbage out*)\n",
        "\n",
        "\n",
        "\n",
        "#### Vantagens de aplicar técnicas de pré-processamento de Dados\n",
        "\n",
        "- **Melhorar a precisão do modelo**: Ao limpar e formatar os dados, podemos garantir que o algoritmo considere apenas informações relevantes e que não seja influenciado por dados irrelevantes ou incorretos.\n",
        "\n",
        "\n",
        "- **Redução de tempo e recursos**: Ao remover dados irrelevantes ou redundantes, podemos reduzir a quantidade de dados que o algoritmo precisa processar, o que pode reduzir bastante a quantidade de tempo e recursos necessários para treinar o modelo.\n",
        "\n",
        "- **Ajuda a evitar o overfitting**: O overfitting ocorre quando um modelo é treinado em um conjunto de dados muito específico e, como resultado, tem um bom desempenho nos dados de treinamento, mas é ruim em dados novos e não vistos. Ao pré-processar os dados e remover informações irrelevantes ou redundantes, podemos ajudar a reduzir o risco de overfitting e melhorar a capacidade do modelo de generalizar para novos dados.\n",
        "\n",
        "- **Melhorar a interpretabilidade do modelo**: Ao limpar e formatar os dados, podemos facilitar a compreensão das relações entre diferentes variáveis e como elas estão influenciando as previsões do modelo.\n",
        "\n",
        "\n",
        "\n",
        "\n",
        "Em resumo, o pré-processamento de dados é uma etapa essencial no processo de análise de dados que visa melhorar a qualidade e a precisão dos resultados da análise, tornando os dados mais acessíveis e fáceis de serem compreendidos."
      ]
    },
    {
      "cell_type": "markdown",
      "id": "833f4161",
      "metadata": {
        "id": "833f4161"
      },
      "source": [
        "### Carregar Base de Dados"
      ]
    },
    {
      "cell_type": "code",
      "execution_count": null,
      "id": "fd5b2ea8",
      "metadata": {
        "id": "fd5b2ea8"
      },
      "outputs": [],
      "source": [
        "import pandas as pd\n",
        "import numpy as np"
      ]
    },
    {
      "cell_type": "code",
      "execution_count": null,
      "id": "42cb56c2",
      "metadata": {
        "id": "42cb56c2"
      },
      "outputs": [],
      "source": [
        "base_dados = pd.read_excel('Base Processamento.xlsx', sheet_name='base_amostra')"
      ]
    },
    {
      "cell_type": "markdown",
      "id": "e3d8b089",
      "metadata": {
        "id": "e3d8b089"
      },
      "source": [
        "### Limpeza dos Dados\n",
        "\n",
        "A limpeza dos dados é uma etapa do pré-processamento de dados que envolve a identificação e correção de dados incompletos, inconsistentes, incorretos, irrelevantes ou duplicados em um conjunto de dados. Esses dados inválidos ou irrelevantes podem ser gerados por erros humanos, falhas técnicas ou de software, ou até mesmo por problemas no processo de coleta dos dados.\n",
        "\n",
        "A limpeza dos dados envolve várias técnicas, como a remoção de valores duplicados, preenchimento de valores faltantes, correção de erros de digitação, normalização de dados, entre outras."
      ]
    },
    {
      "cell_type": "markdown",
      "id": "2347386d",
      "metadata": {
        "id": "2347386d"
      },
      "source": [
        "## Valores faltantes\n",
        "\n",
        "Tratar os valores faltantes é uma tarefa essencial durante o pré-processamento de dados, pois, valores faltantes podem prejudicar o resultado final do modelo. Antes de iniciar o tratamento dos dados faltantes, é preciso identificar o motivo desses valores faltantes e se há algum valor determinado para esses casos.\n",
        "\n",
        "Uma vez que já sabemos um pouco mais sobre esses valores faltantes, é necessário decidir se serão substituídos ou não, e qual o valor que deverá ser adicionado.  Aqui estão algumas alternativas para trabalhar com esses valores faltantes:\n",
        "\n",
        "\n",
        "- Valores como “Não disponível” ou “NA” podem ser utilizados para substituir os valores ausentes.\n",
        "- Substituir os valores manualmente, o que é inviável para grandes conjuntos de dados.\n",
        "- Utilizar o valor médio/mediano da variável.\n",
        "- Utilizar um algoritmo (ex. Árvore de Decisão) para definir o valor mais provável\n",
        "\n",
        "É importante lembrar que a escolha da técnica de tratamento de valores faltantes deve ser baseada nas características do conjunto de dados e no tipo de análise que será realizada. Além disso, é recomendável que os dados tratados sejam avaliados para verificar se a técnica escolhida não gerou novos problemas, como distorção ou perda de informação.\n",
        "\n",
        "\n"
      ]
    },
    {
      "cell_type": "markdown",
      "id": "03ba23d6",
      "metadata": {
        "id": "03ba23d6"
      },
      "source": [
        "\n",
        "Antes de começar a tratar os valores faltantes, é necessário avaliar onde estão os dados ausentes. Podemos indentificá-los da seguinte forma:"
      ]
    },
    {
      "cell_type": "code",
      "execution_count": null,
      "id": "2688a8d6",
      "metadata": {
        "id": "2688a8d6",
        "outputId": "42bf878d-fa9d-4926-874d-240ff01d7a8d"
      },
      "outputs": [
        {
          "data": {
            "text/plain": [
              "SEXO            0\n",
              "ESPEC           0\n",
              "DIAR_ACOM       0\n",
              "QT_DIARIAS      0\n",
              "VAL_SH          1\n",
              "VAL_SP          3\n",
              "US_TOT          2\n",
              "DT_INTER        0\n",
              "ESCOLARIDADE    0\n",
              "IDADE           0\n",
              "DIAS_PERM       0\n",
              "MORTE           0\n",
              "NACIONAL        4\n",
              "GESTRISCO       0\n",
              "munResNome      2\n",
              "dtype: int64"
            ]
          },
          "execution_count": 3,
          "metadata": {},
          "output_type": "execute_result"
        }
      ],
      "source": [
        "base_dados.isnull().sum()"
      ]
    },
    {
      "cell_type": "markdown",
      "id": "7acc0922",
      "metadata": {
        "id": "7acc0922"
      },
      "source": [
        "Linhas ou colunas com muitos valores ausentes não significativos podem ser excluídas com a função **dropna** dos pandas. Os parâmetros mais importantes da função são:\n",
        "\n",
        "- axis: 0 para linhas, 1 para colunas\n",
        "- inplace: atualizar os dados"
      ]
    },
    {
      "cell_type": "code",
      "execution_count": null,
      "id": "1b359bd4",
      "metadata": {
        "id": "1b359bd4",
        "outputId": "57dec5be-ae07-4948-dc66-abae49ba71fb"
      },
      "outputs": [
        {
          "data": {
            "text/html": [
              "<div>\n",
              "<style scoped>\n",
              "    .dataframe tbody tr th:only-of-type {\n",
              "        vertical-align: middle;\n",
              "    }\n",
              "\n",
              "    .dataframe tbody tr th {\n",
              "        vertical-align: top;\n",
              "    }\n",
              "\n",
              "    .dataframe thead th {\n",
              "        text-align: right;\n",
              "    }\n",
              "</style>\n",
              "<table border=\"1\" class=\"dataframe\">\n",
              "  <thead>\n",
              "    <tr style=\"text-align: right;\">\n",
              "      <th></th>\n",
              "      <th>SEXO</th>\n",
              "      <th>ESPEC</th>\n",
              "      <th>DIAR_ACOM</th>\n",
              "      <th>QT_DIARIAS</th>\n",
              "      <th>VAL_SH</th>\n",
              "      <th>VAL_SP</th>\n",
              "      <th>US_TOT</th>\n",
              "      <th>DT_INTER</th>\n",
              "      <th>ESCOLARIDADE</th>\n",
              "      <th>IDADE</th>\n",
              "      <th>DIAS_PERM</th>\n",
              "      <th>MORTE</th>\n",
              "      <th>NACIONAL</th>\n",
              "      <th>GESTRISCO</th>\n",
              "      <th>munResNome</th>\n",
              "    </tr>\n",
              "  </thead>\n",
              "  <tbody>\n",
              "    <tr>\n",
              "      <th>3</th>\n",
              "      <td>Masculino</td>\n",
              "      <td>Clínicos</td>\n",
              "      <td>1</td>\n",
              "      <td>1</td>\n",
              "      <td>88533.96</td>\n",
              "      <td>13344.37</td>\n",
              "      <td>21584.39</td>\n",
              "      <td>2021-09-16</td>\n",
              "      <td>MEDIO</td>\n",
              "      <td>65</td>\n",
              "      <td>128</td>\n",
              "      <td>1</td>\n",
              "      <td>Brasil</td>\n",
              "      <td>Sim</td>\n",
              "      <td>Campos dos Goytacazes</td>\n",
              "    </tr>\n",
              "    <tr>\n",
              "      <th>5</th>\n",
              "      <td>Feminino</td>\n",
              "      <td>Pediátricos</td>\n",
              "      <td>0</td>\n",
              "      <td>1</td>\n",
              "      <td>57614.44</td>\n",
              "      <td>11170.34</td>\n",
              "      <td>14573.04</td>\n",
              "      <td>2021-11-26</td>\n",
              "      <td>FUNDAMENTAL</td>\n",
              "      <td>0</td>\n",
              "      <td>143</td>\n",
              "      <td>0</td>\n",
              "      <td>Brasil</td>\n",
              "      <td>Sim</td>\n",
              "      <td>Rio de Janeiro</td>\n",
              "    </tr>\n",
              "    <tr>\n",
              "      <th>7</th>\n",
              "      <td>Feminino</td>\n",
              "      <td>Pediátricos</td>\n",
              "      <td>0</td>\n",
              "      <td>31</td>\n",
              "      <td>49557.64</td>\n",
              "      <td>12725.43</td>\n",
              "      <td>13195.56</td>\n",
              "      <td>2021-08-14</td>\n",
              "      <td>SUPERIOR</td>\n",
              "      <td>0</td>\n",
              "      <td>190</td>\n",
              "      <td>0</td>\n",
              "      <td>Brasil</td>\n",
              "      <td>Sim</td>\n",
              "      <td>Rio de Janeiro</td>\n",
              "    </tr>\n",
              "    <tr>\n",
              "      <th>12</th>\n",
              "      <td>Masculino</td>\n",
              "      <td>Pediátricos</td>\n",
              "      <td>0</td>\n",
              "      <td>1</td>\n",
              "      <td>39598.99</td>\n",
              "      <td>6463.26</td>\n",
              "      <td>9758.95</td>\n",
              "      <td>2021-12-14</td>\n",
              "      <td>SUPERIOR</td>\n",
              "      <td>0</td>\n",
              "      <td>90</td>\n",
              "      <td>0</td>\n",
              "      <td>Brasil</td>\n",
              "      <td>Sim</td>\n",
              "      <td>Queimados</td>\n",
              "    </tr>\n",
              "  </tbody>\n",
              "</table>\n",
              "</div>"
            ],
            "text/plain": [
              "         SEXO        ESPEC  DIAR_ACOM  QT_DIARIAS    VAL_SH    VAL_SP  \\\n",
              "3   Masculino     Clínicos          1           1  88533.96  13344.37   \n",
              "5    Feminino  Pediátricos          0           1  57614.44  11170.34   \n",
              "7    Feminino  Pediátricos          0          31  49557.64  12725.43   \n",
              "12  Masculino  Pediátricos          0           1  39598.99   6463.26   \n",
              "\n",
              "      US_TOT   DT_INTER ESCOLARIDADE  IDADE  DIAS_PERM  MORTE NACIONAL  \\\n",
              "3   21584.39 2021-09-16        MEDIO     65        128      1   Brasil   \n",
              "5   14573.04 2021-11-26  FUNDAMENTAL      0        143      0   Brasil   \n",
              "7   13195.56 2021-08-14     SUPERIOR      0        190      0   Brasil   \n",
              "12   9758.95 2021-12-14     SUPERIOR      0         90      0   Brasil   \n",
              "\n",
              "   GESTRISCO             munResNome  \n",
              "3        Sim  Campos dos Goytacazes  \n",
              "5        Sim         Rio de Janeiro  \n",
              "7        Sim         Rio de Janeiro  \n",
              "12       Sim              Queimados  "
            ]
          },
          "execution_count": 4,
          "metadata": {},
          "output_type": "execute_result"
        }
      ],
      "source": [
        "#Excluir TODAS as observações que contenham NA\n",
        "base_dados.dropna()"
      ]
    },
    {
      "cell_type": "markdown",
      "id": "65b31b73",
      "metadata": {
        "id": "65b31b73"
      },
      "source": [
        "Note que a função retirou todas as variáveis que continham valores faltantes. Para excluir uma coluna que possui valores faltantes, basta alterar o argumento **_axis_**"
      ]
    },
    {
      "cell_type": "code",
      "execution_count": null,
      "id": "8536d55f",
      "metadata": {
        "scrolled": false,
        "id": "8536d55f",
        "outputId": "c470b69b-4e73-498c-b014-97ef8fd0f6ea"
      },
      "outputs": [
        {
          "data": {
            "text/html": [
              "<div>\n",
              "<style scoped>\n",
              "    .dataframe tbody tr th:only-of-type {\n",
              "        vertical-align: middle;\n",
              "    }\n",
              "\n",
              "    .dataframe tbody tr th {\n",
              "        vertical-align: top;\n",
              "    }\n",
              "\n",
              "    .dataframe thead th {\n",
              "        text-align: right;\n",
              "    }\n",
              "</style>\n",
              "<table border=\"1\" class=\"dataframe\">\n",
              "  <thead>\n",
              "    <tr style=\"text-align: right;\">\n",
              "      <th></th>\n",
              "      <th>SEXO</th>\n",
              "      <th>ESPEC</th>\n",
              "      <th>DIAR_ACOM</th>\n",
              "      <th>QT_DIARIAS</th>\n",
              "      <th>DT_INTER</th>\n",
              "      <th>ESCOLARIDADE</th>\n",
              "      <th>IDADE</th>\n",
              "      <th>DIAS_PERM</th>\n",
              "      <th>MORTE</th>\n",
              "      <th>GESTRISCO</th>\n",
              "    </tr>\n",
              "  </thead>\n",
              "  <tbody>\n",
              "    <tr>\n",
              "      <th>0</th>\n",
              "      <td>Feminino</td>\n",
              "      <td>Cirúrgico</td>\n",
              "      <td>0</td>\n",
              "      <td>73</td>\n",
              "      <td>2021-06-30</td>\n",
              "      <td>FUNDAMENTAL</td>\n",
              "      <td>56</td>\n",
              "      <td>297</td>\n",
              "      <td>1</td>\n",
              "      <td>Sim</td>\n",
              "    </tr>\n",
              "    <tr>\n",
              "      <th>1</th>\n",
              "      <td>Masculino</td>\n",
              "      <td>Pediátricos</td>\n",
              "      <td>0</td>\n",
              "      <td>0</td>\n",
              "      <td>2021-08-20</td>\n",
              "      <td>MEDIO</td>\n",
              "      <td>2</td>\n",
              "      <td>200</td>\n",
              "      <td>1</td>\n",
              "      <td>Não</td>\n",
              "    </tr>\n",
              "    <tr>\n",
              "      <th>2</th>\n",
              "      <td>Feminino</td>\n",
              "      <td>Pediátricos</td>\n",
              "      <td>0</td>\n",
              "      <td>21</td>\n",
              "      <td>2021-09-25</td>\n",
              "      <td>SUPERIOR</td>\n",
              "      <td>0</td>\n",
              "      <td>167</td>\n",
              "      <td>0</td>\n",
              "      <td>Sim</td>\n",
              "    </tr>\n",
              "    <tr>\n",
              "      <th>3</th>\n",
              "      <td>Masculino</td>\n",
              "      <td>Clínicos</td>\n",
              "      <td>1</td>\n",
              "      <td>1</td>\n",
              "      <td>2021-09-16</td>\n",
              "      <td>MEDIO</td>\n",
              "      <td>65</td>\n",
              "      <td>128</td>\n",
              "      <td>1</td>\n",
              "      <td>Sim</td>\n",
              "    </tr>\n",
              "    <tr>\n",
              "      <th>4</th>\n",
              "      <td>Feminino</td>\n",
              "      <td>Pediátricos</td>\n",
              "      <td>0</td>\n",
              "      <td>1</td>\n",
              "      <td>2021-10-29</td>\n",
              "      <td>SUPERIOR</td>\n",
              "      <td>26</td>\n",
              "      <td>126</td>\n",
              "      <td>0</td>\n",
              "      <td>Sim</td>\n",
              "    </tr>\n",
              "    <tr>\n",
              "      <th>5</th>\n",
              "      <td>Feminino</td>\n",
              "      <td>Pediátricos</td>\n",
              "      <td>0</td>\n",
              "      <td>1</td>\n",
              "      <td>2021-11-26</td>\n",
              "      <td>FUNDAMENTAL</td>\n",
              "      <td>0</td>\n",
              "      <td>143</td>\n",
              "      <td>0</td>\n",
              "      <td>Sim</td>\n",
              "    </tr>\n",
              "    <tr>\n",
              "      <th>6</th>\n",
              "      <td>Masculino</td>\n",
              "      <td>Pediátricos</td>\n",
              "      <td>13</td>\n",
              "      <td>13</td>\n",
              "      <td>2021-10-01</td>\n",
              "      <td>MEDIO</td>\n",
              "      <td>10</td>\n",
              "      <td>122</td>\n",
              "      <td>0</td>\n",
              "      <td>Sim</td>\n",
              "    </tr>\n",
              "    <tr>\n",
              "      <th>7</th>\n",
              "      <td>Feminino</td>\n",
              "      <td>Pediátricos</td>\n",
              "      <td>0</td>\n",
              "      <td>31</td>\n",
              "      <td>2021-08-14</td>\n",
              "      <td>SUPERIOR</td>\n",
              "      <td>0</td>\n",
              "      <td>190</td>\n",
              "      <td>0</td>\n",
              "      <td>Sim</td>\n",
              "    </tr>\n",
              "    <tr>\n",
              "      <th>8</th>\n",
              "      <td>Feminino</td>\n",
              "      <td>Pediátricos</td>\n",
              "      <td>0</td>\n",
              "      <td>1</td>\n",
              "      <td>2021-12-02</td>\n",
              "      <td>MEDIO</td>\n",
              "      <td>1</td>\n",
              "      <td>105</td>\n",
              "      <td>0</td>\n",
              "      <td>Sim</td>\n",
              "    </tr>\n",
              "    <tr>\n",
              "      <th>9</th>\n",
              "      <td>Masculino</td>\n",
              "      <td>Pediátricos</td>\n",
              "      <td>1</td>\n",
              "      <td>1</td>\n",
              "      <td>2021-11-18</td>\n",
              "      <td>SUPERIOR</td>\n",
              "      <td>1</td>\n",
              "      <td>102</td>\n",
              "      <td>0</td>\n",
              "      <td>Não</td>\n",
              "    </tr>\n",
              "    <tr>\n",
              "      <th>10</th>\n",
              "      <td>Feminino</td>\n",
              "      <td>Pediátricos</td>\n",
              "      <td>0</td>\n",
              "      <td>1</td>\n",
              "      <td>2021-12-18</td>\n",
              "      <td>FUNDAMENTAL</td>\n",
              "      <td>0</td>\n",
              "      <td>101</td>\n",
              "      <td>0</td>\n",
              "      <td>Sim</td>\n",
              "    </tr>\n",
              "    <tr>\n",
              "      <th>11</th>\n",
              "      <td>Masculino</td>\n",
              "      <td>Pediátricos</td>\n",
              "      <td>0</td>\n",
              "      <td>186</td>\n",
              "      <td>2021-06-29</td>\n",
              "      <td>FUNDAMENTAL</td>\n",
              "      <td>0</td>\n",
              "      <td>276</td>\n",
              "      <td>1</td>\n",
              "      <td>Sim</td>\n",
              "    </tr>\n",
              "    <tr>\n",
              "      <th>12</th>\n",
              "      <td>Masculino</td>\n",
              "      <td>Pediátricos</td>\n",
              "      <td>0</td>\n",
              "      <td>1</td>\n",
              "      <td>2021-12-14</td>\n",
              "      <td>SUPERIOR</td>\n",
              "      <td>0</td>\n",
              "      <td>90</td>\n",
              "      <td>0</td>\n",
              "      <td>Sim</td>\n",
              "    </tr>\n",
              "    <tr>\n",
              "      <th>13</th>\n",
              "      <td>Feminino</td>\n",
              "      <td>Pediátricos</td>\n",
              "      <td>86</td>\n",
              "      <td>0</td>\n",
              "      <td>2022-01-16</td>\n",
              "      <td>MEDIO</td>\n",
              "      <td>0</td>\n",
              "      <td>86</td>\n",
              "      <td>0</td>\n",
              "      <td>Não</td>\n",
              "    </tr>\n",
              "  </tbody>\n",
              "</table>\n",
              "</div>"
            ],
            "text/plain": [
              "         SEXO        ESPEC  DIAR_ACOM  QT_DIARIAS   DT_INTER ESCOLARIDADE  \\\n",
              "0    Feminino    Cirúrgico          0          73 2021-06-30  FUNDAMENTAL   \n",
              "1   Masculino  Pediátricos          0           0 2021-08-20        MEDIO   \n",
              "2    Feminino  Pediátricos          0          21 2021-09-25     SUPERIOR   \n",
              "3   Masculino     Clínicos          1           1 2021-09-16        MEDIO   \n",
              "4    Feminino  Pediátricos          0           1 2021-10-29     SUPERIOR   \n",
              "5    Feminino  Pediátricos          0           1 2021-11-26  FUNDAMENTAL   \n",
              "6   Masculino  Pediátricos         13          13 2021-10-01        MEDIO   \n",
              "7    Feminino  Pediátricos          0          31 2021-08-14     SUPERIOR   \n",
              "8    Feminino  Pediátricos          0           1 2021-12-02        MEDIO   \n",
              "9   Masculino  Pediátricos          1           1 2021-11-18     SUPERIOR   \n",
              "10   Feminino  Pediátricos          0           1 2021-12-18  FUNDAMENTAL   \n",
              "11  Masculino  Pediátricos          0         186 2021-06-29  FUNDAMENTAL   \n",
              "12  Masculino  Pediátricos          0           1 2021-12-14     SUPERIOR   \n",
              "13   Feminino  Pediátricos         86           0 2022-01-16        MEDIO   \n",
              "\n",
              "    IDADE  DIAS_PERM  MORTE GESTRISCO  \n",
              "0      56        297      1       Sim  \n",
              "1       2        200      1       Não  \n",
              "2       0        167      0       Sim  \n",
              "3      65        128      1       Sim  \n",
              "4      26        126      0       Sim  \n",
              "5       0        143      0       Sim  \n",
              "6      10        122      0       Sim  \n",
              "7       0        190      0       Sim  \n",
              "8       1        105      0       Sim  \n",
              "9       1        102      0       Não  \n",
              "10      0        101      0       Sim  \n",
              "11      0        276      1       Sim  \n",
              "12      0         90      0       Sim  \n",
              "13      0         86      0       Não  "
            ]
          },
          "execution_count": 5,
          "metadata": {},
          "output_type": "execute_result"
        }
      ],
      "source": [
        "#Excluir Colunas com NA\n",
        "base_dados.dropna(axis=1)"
      ]
    },
    {
      "cell_type": "markdown",
      "id": "59bac3a2",
      "metadata": {
        "id": "59bac3a2"
      },
      "source": [
        "Por enquanto, os valores faltantes foram retirados apenas na visão temporária dos dados. Para alterar o valor do objeto original, basta utilizar o argumento **inplace=True**"
      ]
    },
    {
      "cell_type": "code",
      "execution_count": null,
      "id": "3850ed16",
      "metadata": {
        "id": "3850ed16"
      },
      "outputs": [],
      "source": [
        "#Remover os valores faltantes direto na base de dados\n",
        "base_dados.dropna(inplace=True)"
      ]
    },
    {
      "cell_type": "markdown",
      "id": "760e6b8c",
      "metadata": {
        "id": "760e6b8c"
      },
      "source": [
        "Após a substituição dos valores faltantes, agora é só atualizar o valor do index utilizando a função **reset_index**"
      ]
    },
    {
      "cell_type": "code",
      "execution_count": null,
      "id": "f322c2eb",
      "metadata": {
        "id": "f322c2eb"
      },
      "outputs": [],
      "source": [
        "base_dados.reset_index(inplace=True) #atualizar o índice da base de dados"
      ]
    },
    {
      "cell_type": "code",
      "execution_count": null,
      "id": "e1e8e512",
      "metadata": {
        "scrolled": false,
        "id": "e1e8e512",
        "outputId": "0c454ab3-ba6c-4d4c-96c2-70ed9fd701ca"
      },
      "outputs": [
        {
          "data": {
            "text/html": [
              "<div>\n",
              "<style scoped>\n",
              "    .dataframe tbody tr th:only-of-type {\n",
              "        vertical-align: middle;\n",
              "    }\n",
              "\n",
              "    .dataframe tbody tr th {\n",
              "        vertical-align: top;\n",
              "    }\n",
              "\n",
              "    .dataframe thead th {\n",
              "        text-align: right;\n",
              "    }\n",
              "</style>\n",
              "<table border=\"1\" class=\"dataframe\">\n",
              "  <thead>\n",
              "    <tr style=\"text-align: right;\">\n",
              "      <th></th>\n",
              "      <th>index</th>\n",
              "      <th>SEXO</th>\n",
              "      <th>ESPEC</th>\n",
              "      <th>DIAR_ACOM</th>\n",
              "      <th>QT_DIARIAS</th>\n",
              "      <th>VAL_SH</th>\n",
              "      <th>VAL_SP</th>\n",
              "      <th>US_TOT</th>\n",
              "      <th>DT_INTER</th>\n",
              "      <th>ESCOLARIDADE</th>\n",
              "      <th>IDADE</th>\n",
              "      <th>DIAS_PERM</th>\n",
              "      <th>MORTE</th>\n",
              "      <th>NACIONAL</th>\n",
              "      <th>GESTRISCO</th>\n",
              "      <th>munResNome</th>\n",
              "    </tr>\n",
              "  </thead>\n",
              "  <tbody>\n",
              "    <tr>\n",
              "      <th>0</th>\n",
              "      <td>3</td>\n",
              "      <td>Masculino</td>\n",
              "      <td>Clínicos</td>\n",
              "      <td>1</td>\n",
              "      <td>1</td>\n",
              "      <td>88533.96</td>\n",
              "      <td>13344.37</td>\n",
              "      <td>21584.39</td>\n",
              "      <td>2021-09-16</td>\n",
              "      <td>MEDIO</td>\n",
              "      <td>65</td>\n",
              "      <td>128</td>\n",
              "      <td>1</td>\n",
              "      <td>Brasil</td>\n",
              "      <td>Sim</td>\n",
              "      <td>Campos dos Goytacazes</td>\n",
              "    </tr>\n",
              "    <tr>\n",
              "      <th>1</th>\n",
              "      <td>5</td>\n",
              "      <td>Feminino</td>\n",
              "      <td>Pediátricos</td>\n",
              "      <td>0</td>\n",
              "      <td>1</td>\n",
              "      <td>57614.44</td>\n",
              "      <td>11170.34</td>\n",
              "      <td>14573.04</td>\n",
              "      <td>2021-11-26</td>\n",
              "      <td>FUNDAMENTAL</td>\n",
              "      <td>0</td>\n",
              "      <td>143</td>\n",
              "      <td>0</td>\n",
              "      <td>Brasil</td>\n",
              "      <td>Sim</td>\n",
              "      <td>Rio de Janeiro</td>\n",
              "    </tr>\n",
              "    <tr>\n",
              "      <th>2</th>\n",
              "      <td>7</td>\n",
              "      <td>Feminino</td>\n",
              "      <td>Pediátricos</td>\n",
              "      <td>0</td>\n",
              "      <td>31</td>\n",
              "      <td>49557.64</td>\n",
              "      <td>12725.43</td>\n",
              "      <td>13195.56</td>\n",
              "      <td>2021-08-14</td>\n",
              "      <td>SUPERIOR</td>\n",
              "      <td>0</td>\n",
              "      <td>190</td>\n",
              "      <td>0</td>\n",
              "      <td>Brasil</td>\n",
              "      <td>Sim</td>\n",
              "      <td>Rio de Janeiro</td>\n",
              "    </tr>\n",
              "    <tr>\n",
              "      <th>3</th>\n",
              "      <td>12</td>\n",
              "      <td>Masculino</td>\n",
              "      <td>Pediátricos</td>\n",
              "      <td>0</td>\n",
              "      <td>1</td>\n",
              "      <td>39598.99</td>\n",
              "      <td>6463.26</td>\n",
              "      <td>9758.95</td>\n",
              "      <td>2021-12-14</td>\n",
              "      <td>SUPERIOR</td>\n",
              "      <td>0</td>\n",
              "      <td>90</td>\n",
              "      <td>0</td>\n",
              "      <td>Brasil</td>\n",
              "      <td>Sim</td>\n",
              "      <td>Queimados</td>\n",
              "    </tr>\n",
              "  </tbody>\n",
              "</table>\n",
              "</div>"
            ],
            "text/plain": [
              "   index       SEXO        ESPEC  DIAR_ACOM  QT_DIARIAS    VAL_SH    VAL_SP  \\\n",
              "0      3  Masculino     Clínicos          1           1  88533.96  13344.37   \n",
              "1      5   Feminino  Pediátricos          0           1  57614.44  11170.34   \n",
              "2      7   Feminino  Pediátricos          0          31  49557.64  12725.43   \n",
              "3     12  Masculino  Pediátricos          0           1  39598.99   6463.26   \n",
              "\n",
              "     US_TOT   DT_INTER ESCOLARIDADE  IDADE  DIAS_PERM  MORTE NACIONAL  \\\n",
              "0  21584.39 2021-09-16        MEDIO     65        128      1   Brasil   \n",
              "1  14573.04 2021-11-26  FUNDAMENTAL      0        143      0   Brasil   \n",
              "2  13195.56 2021-08-14     SUPERIOR      0        190      0   Brasil   \n",
              "3   9758.95 2021-12-14     SUPERIOR      0         90      0   Brasil   \n",
              "\n",
              "  GESTRISCO             munResNome  \n",
              "0       Sim  Campos dos Goytacazes  \n",
              "1       Sim         Rio de Janeiro  \n",
              "2       Sim         Rio de Janeiro  \n",
              "3       Sim              Queimados  "
            ]
          },
          "execution_count": 8,
          "metadata": {},
          "output_type": "execute_result"
        }
      ],
      "source": [
        "base_dados"
      ]
    },
    {
      "cell_type": "markdown",
      "id": "6447767d",
      "metadata": {
        "id": "6447767d"
      },
      "source": [
        "**ATENÇÃO**: Remover os valores faltantes pode levar à perda de informação e, portanto, deve ser usada com cautela. Além disso, é recomendável avaliar se a quantidade de dados removidos não afetou significativamente a análise dos dados. Para alguns casos, pode ser mais adequado preencher os valores faltantes com medidas estatísticas ou usar técnicas de imputação de dados."
      ]
    },
    {
      "cell_type": "markdown",
      "id": "a16c1c33",
      "metadata": {
        "id": "a16c1c33"
      },
      "source": [
        "## Imputação de dados\n",
        "\n",
        "Durante o processo de tratamento dos dados, muitas vezes excluir uma observação não é uma opção viável, pois, podemos perder informações relevantes para nosso estudo. Por isso, é importante utilizar alguma técnica de imputação de dados para viabilizar o uso dessas observações.\n",
        "\n",
        "A imputação de dados é uma técnica de pré-processamento de dados que consiste em preencher valores ausentes em um conjunto de dados utilizando valores estimados, com base em informações disponíveis nos próprios dados ou em outras fontes.\n",
        "\n",
        "\n",
        "Existem muitas técnicas de imputação de dados, entre elas:\n",
        "\n",
        "- **Utilizar a média, mediana ou moda**: Nesse método, substitui-se os valores faltante por alguma métrica de posição de cada variável. É uma técnica simples e rápida de ser implementada, mas pode gerar distorções nos dados se os valores ausentes estiverem concentrados em uma determinada faixa de valores ou se houver um volume muito alto de valores ausentes.\n",
        "\n",
        "- **Imputação por regressão**: Utiliza-se a regressão linear para estimar os valores ausentes com base nas demais variáveis do conjunto de dados. É uma técnica mais complexa do que o preenchimento por média, mediana ou moda, mas pode gerar estimativas mais precisas, especialmente se houver relação linear entre as variáveis.\n",
        "\n",
        "- **K-vizinhos mais próximos (K-NN)**: essa técnica consiste em preencher os valores ausentes utilizando os vizinhos mais próximos em um conjunto de dados. É uma técnica que leva em conta a relação entre as observações, mas pode gerar estimativas imprecisas se o conjunto de dados for muito grande ou se houver muitos valores ausentes.\n",
        "\n",
        "- **Imputação por modelo**: Utiliza-se modelos de aprendizado de máquina para estimar os valores faltantes. É uma técnica que pode gerar estimativas precisas se o modelo utilizado for adequado, mas também pode ser computacionalmente intensiva e requerer um conjunto de dados grande o suficiente para treinar o modelo.\n",
        "\n",
        "A escolha da técnica de imputação de dados mais adequada depende das características da base, do tipo de análise a ser realizada e da quantidade de valores ausentes no conjunto de dados. É importante avaliar se a técnica de imputação de dados escolhida não gerou distorções ou perda de informação nos dados."
      ]
    },
    {
      "cell_type": "markdown",
      "id": "1cd197da",
      "metadata": {
        "id": "1cd197da"
      },
      "source": [
        "### Variáveis numéricas\n",
        "\n",
        "Uma maneira simples de fazer imput de dados com variáveis numéricas é preenchê-los com a média dos valores da variável. Para isso, podemos utilizar o método **fillna()** do Pandas da seguinte forma:"
      ]
    },
    {
      "cell_type": "markdown",
      "id": "90870df7",
      "metadata": {
        "id": "90870df7"
      },
      "source": [
        "#### Utilizando a média"
      ]
    },
    {
      "cell_type": "code",
      "execution_count": null,
      "id": "eb4117d1",
      "metadata": {
        "scrolled": false,
        "id": "eb4117d1",
        "outputId": "f500abd0-4cd1-4fc1-ada6-d8c347843b53"
      },
      "outputs": [
        {
          "name": "stdout",
          "output_type": "stream",
          "text": [
            "A média de VAL_SP é:  9442.526363636363\n"
          ]
        },
        {
          "data": {
            "text/html": [
              "<div>\n",
              "<style scoped>\n",
              "    .dataframe tbody tr th:only-of-type {\n",
              "        vertical-align: middle;\n",
              "    }\n",
              "\n",
              "    .dataframe tbody tr th {\n",
              "        vertical-align: top;\n",
              "    }\n",
              "\n",
              "    .dataframe thead th {\n",
              "        text-align: right;\n",
              "    }\n",
              "</style>\n",
              "<table border=\"1\" class=\"dataframe\">\n",
              "  <thead>\n",
              "    <tr style=\"text-align: right;\">\n",
              "      <th></th>\n",
              "      <th>VAL_SP</th>\n",
              "    </tr>\n",
              "  </thead>\n",
              "  <tbody>\n",
              "    <tr>\n",
              "      <th>0</th>\n",
              "      <td>4995.70</td>\n",
              "    </tr>\n",
              "    <tr>\n",
              "      <th>1</th>\n",
              "      <td>4265.16</td>\n",
              "    </tr>\n",
              "    <tr>\n",
              "      <th>2</th>\n",
              "      <td>NaN</td>\n",
              "    </tr>\n",
              "    <tr>\n",
              "      <th>3</th>\n",
              "      <td>13344.37</td>\n",
              "    </tr>\n",
              "    <tr>\n",
              "      <th>4</th>\n",
              "      <td>8670.39</td>\n",
              "    </tr>\n",
              "    <tr>\n",
              "      <th>5</th>\n",
              "      <td>11170.34</td>\n",
              "    </tr>\n",
              "    <tr>\n",
              "      <th>6</th>\n",
              "      <td>NaN</td>\n",
              "    </tr>\n",
              "    <tr>\n",
              "      <th>7</th>\n",
              "      <td>12725.43</td>\n",
              "    </tr>\n",
              "    <tr>\n",
              "      <th>8</th>\n",
              "      <td>7546.86</td>\n",
              "    </tr>\n",
              "    <tr>\n",
              "      <th>9</th>\n",
              "      <td>20357.40</td>\n",
              "    </tr>\n",
              "  </tbody>\n",
              "</table>\n",
              "</div>"
            ],
            "text/plain": [
              "     VAL_SP\n",
              "0   4995.70\n",
              "1   4265.16\n",
              "2       NaN\n",
              "3  13344.37\n",
              "4   8670.39\n",
              "5  11170.34\n",
              "6       NaN\n",
              "7  12725.43\n",
              "8   7546.86\n",
              "9  20357.40"
            ]
          },
          "execution_count": 9,
          "metadata": {},
          "output_type": "execute_result"
        }
      ],
      "source": [
        "#Carregar a base de dados contendo valores faltantes\n",
        "base_dados = pd.read_excel('Base Processamento.xlsx', sheet_name='base_amostra')\n",
        "\n",
        "print('A média de VAL_SP é: ',base_dados['VAL_SP'].mean())\n",
        "base_dados[['VAL_SP']].head(10)"
      ]
    },
    {
      "cell_type": "markdown",
      "id": "82ca7b5b",
      "metadata": {
        "id": "82ca7b5b"
      },
      "source": [
        "Note que em nossa base de dados, temos diversos valores faltantes para algumas variáveis numéricas. Para substituir esses valores faltantes pela média, podemos utilizar as funções **fillna()** e o **mean()**"
      ]
    },
    {
      "cell_type": "code",
      "execution_count": null,
      "id": "18aa58b9",
      "metadata": {
        "id": "18aa58b9"
      },
      "outputs": [],
      "source": [
        "base_dados['VAL_SP'].fillna(base_dados['VAL_SP'].mean(),inplace=True)"
      ]
    },
    {
      "cell_type": "code",
      "execution_count": null,
      "id": "cad79492",
      "metadata": {
        "id": "cad79492",
        "outputId": "0e6bef6e-d6e6-4d31-db5d-abfc6df5d66b"
      },
      "outputs": [
        {
          "name": "stdout",
          "output_type": "stream",
          "text": [
            "A média de VAL_SP é:  9442.526363636363\n"
          ]
        },
        {
          "data": {
            "text/html": [
              "<div>\n",
              "<style scoped>\n",
              "    .dataframe tbody tr th:only-of-type {\n",
              "        vertical-align: middle;\n",
              "    }\n",
              "\n",
              "    .dataframe tbody tr th {\n",
              "        vertical-align: top;\n",
              "    }\n",
              "\n",
              "    .dataframe thead th {\n",
              "        text-align: right;\n",
              "    }\n",
              "</style>\n",
              "<table border=\"1\" class=\"dataframe\">\n",
              "  <thead>\n",
              "    <tr style=\"text-align: right;\">\n",
              "      <th></th>\n",
              "      <th>VAL_SP</th>\n",
              "    </tr>\n",
              "  </thead>\n",
              "  <tbody>\n",
              "    <tr>\n",
              "      <th>0</th>\n",
              "      <td>4995.700000</td>\n",
              "    </tr>\n",
              "    <tr>\n",
              "      <th>1</th>\n",
              "      <td>4265.160000</td>\n",
              "    </tr>\n",
              "    <tr>\n",
              "      <th>2</th>\n",
              "      <td>9442.526364</td>\n",
              "    </tr>\n",
              "    <tr>\n",
              "      <th>3</th>\n",
              "      <td>13344.370000</td>\n",
              "    </tr>\n",
              "    <tr>\n",
              "      <th>4</th>\n",
              "      <td>8670.390000</td>\n",
              "    </tr>\n",
              "    <tr>\n",
              "      <th>5</th>\n",
              "      <td>11170.340000</td>\n",
              "    </tr>\n",
              "    <tr>\n",
              "      <th>6</th>\n",
              "      <td>9442.526364</td>\n",
              "    </tr>\n",
              "    <tr>\n",
              "      <th>7</th>\n",
              "      <td>12725.430000</td>\n",
              "    </tr>\n",
              "    <tr>\n",
              "      <th>8</th>\n",
              "      <td>7546.860000</td>\n",
              "    </tr>\n",
              "    <tr>\n",
              "      <th>9</th>\n",
              "      <td>20357.400000</td>\n",
              "    </tr>\n",
              "  </tbody>\n",
              "</table>\n",
              "</div>"
            ],
            "text/plain": [
              "         VAL_SP\n",
              "0   4995.700000\n",
              "1   4265.160000\n",
              "2   9442.526364\n",
              "3  13344.370000\n",
              "4   8670.390000\n",
              "5  11170.340000\n",
              "6   9442.526364\n",
              "7  12725.430000\n",
              "8   7546.860000\n",
              "9  20357.400000"
            ]
          },
          "execution_count": 11,
          "metadata": {},
          "output_type": "execute_result"
        }
      ],
      "source": [
        "print('A média de VAL_SP é: ',base_dados['VAL_SP'].mean())\n",
        "base_dados[['VAL_SP']].head(10)"
      ]
    },
    {
      "cell_type": "markdown",
      "id": "e015240a",
      "metadata": {
        "id": "e015240a"
      },
      "source": [
        "Embora a imputação de dados por média seja uma técnica simples e muito utilizada para valores faltantes em variáveis numéricas, ela pode apresentar algumas limitações e problemas como:\n",
        "\n",
        "- Perda de Variabilidade\n",
        "- Distorção da distribuição\n",
        "- Viés de Amostragem\n",
        "- Sensibilidade a outliers\n",
        "\n",
        "É importante avaliar cuidadosamente as limitações e os problemas da imputação por média antes de decidir utilizá-la como técnica de imputação de dados."
      ]
    },
    {
      "cell_type": "markdown",
      "id": "b11d25b0",
      "metadata": {
        "id": "b11d25b0"
      },
      "source": [
        "#### Utilizando modelos\n",
        "\n",
        "##### KNN\n",
        "Outra maneira de fazer imput de dados com variáveis numéricas é usar o algoritmo K-NN para estimar os valores ausentes com base nos valores de outras amostras semelhantes."
      ]
    },
    {
      "cell_type": "code",
      "execution_count": null,
      "id": "9f57b76c",
      "metadata": {
        "id": "9f57b76c"
      },
      "outputs": [],
      "source": [
        "#Carregar a base de dados contendo valores faltantes\n",
        "base_dados = pd.read_excel('Base Processamento.xlsx', sheet_name='base_amostra')"
      ]
    },
    {
      "cell_type": "code",
      "execution_count": null,
      "id": "71232076",
      "metadata": {
        "id": "71232076"
      },
      "outputs": [],
      "source": [
        "import pandas as pd\n",
        "from sklearn.impute import KNNImputer\n",
        "imputer = KNNImputer(n_neighbors=3)"
      ]
    },
    {
      "cell_type": "markdown",
      "id": "9a9af0f0",
      "metadata": {
        "id": "9a9af0f0"
      },
      "source": [
        "Nesse exemplo, estamos usando o K-NN com n_neighbors=3, ou seja, estamos considerando as três amostras mais próximas para estimar os valores ausentes. O método **fit_transform()** retorna um novo array com os valores estimados, que é então atribuído de volta à coluna 'VAL_SP' da base de dados."
      ]
    },
    {
      "cell_type": "code",
      "execution_count": null,
      "id": "176d1fff",
      "metadata": {
        "id": "176d1fff"
      },
      "outputs": [],
      "source": [
        "#aplicar o KNNImputer\n",
        "base_dados[['VAL_SP']] = imputer.fit_transform(base_dados[['VAL_SP']])"
      ]
    },
    {
      "cell_type": "code",
      "execution_count": null,
      "id": "55050d34",
      "metadata": {
        "id": "55050d34",
        "outputId": "736679ef-3d6d-49de-e264-cae340d3ef99"
      },
      "outputs": [
        {
          "name": "stdout",
          "output_type": "stream",
          "text": [
            "A média de VAL_SP é:  9442.526363636363\n"
          ]
        },
        {
          "data": {
            "text/html": [
              "<div>\n",
              "<style scoped>\n",
              "    .dataframe tbody tr th:only-of-type {\n",
              "        vertical-align: middle;\n",
              "    }\n",
              "\n",
              "    .dataframe tbody tr th {\n",
              "        vertical-align: top;\n",
              "    }\n",
              "\n",
              "    .dataframe thead th {\n",
              "        text-align: right;\n",
              "    }\n",
              "</style>\n",
              "<table border=\"1\" class=\"dataframe\">\n",
              "  <thead>\n",
              "    <tr style=\"text-align: right;\">\n",
              "      <th></th>\n",
              "      <th>VAL_SP</th>\n",
              "    </tr>\n",
              "  </thead>\n",
              "  <tbody>\n",
              "    <tr>\n",
              "      <th>0</th>\n",
              "      <td>4995.700000</td>\n",
              "    </tr>\n",
              "    <tr>\n",
              "      <th>1</th>\n",
              "      <td>4265.160000</td>\n",
              "    </tr>\n",
              "    <tr>\n",
              "      <th>2</th>\n",
              "      <td>9442.526364</td>\n",
              "    </tr>\n",
              "    <tr>\n",
              "      <th>3</th>\n",
              "      <td>13344.370000</td>\n",
              "    </tr>\n",
              "    <tr>\n",
              "      <th>4</th>\n",
              "      <td>8670.390000</td>\n",
              "    </tr>\n",
              "    <tr>\n",
              "      <th>5</th>\n",
              "      <td>11170.340000</td>\n",
              "    </tr>\n",
              "    <tr>\n",
              "      <th>6</th>\n",
              "      <td>9442.526364</td>\n",
              "    </tr>\n",
              "    <tr>\n",
              "      <th>7</th>\n",
              "      <td>12725.430000</td>\n",
              "    </tr>\n",
              "    <tr>\n",
              "      <th>8</th>\n",
              "      <td>7546.860000</td>\n",
              "    </tr>\n",
              "    <tr>\n",
              "      <th>9</th>\n",
              "      <td>20357.400000</td>\n",
              "    </tr>\n",
              "  </tbody>\n",
              "</table>\n",
              "</div>"
            ],
            "text/plain": [
              "         VAL_SP\n",
              "0   4995.700000\n",
              "1   4265.160000\n",
              "2   9442.526364\n",
              "3  13344.370000\n",
              "4   8670.390000\n",
              "5  11170.340000\n",
              "6   9442.526364\n",
              "7  12725.430000\n",
              "8   7546.860000\n",
              "9  20357.400000"
            ]
          },
          "execution_count": 15,
          "metadata": {},
          "output_type": "execute_result"
        }
      ],
      "source": [
        "#Visualizar a variável\n",
        "print('A média de VAL_SP é: ',base_dados['VAL_SP'].mean())\n",
        "base_dados[['VAL_SP']].head(10)"
      ]
    },
    {
      "cell_type": "markdown",
      "id": "bfab75bc",
      "metadata": {
        "id": "bfab75bc"
      },
      "source": [
        "### Variáveis Categóricas\n",
        "\n",
        "\n",
        "Existem várias técnicas para imputação de valores faltantes em variáveis categóricas, como por exemplo:\n",
        "- Imputação por moda\n",
        "- Imputação por KNN\n",
        "- Imputação por regressão logística\n",
        "- Imputação por correspondência\n",
        "- E muitas outras formas.\n",
        "\n",
        "Cada técnica tem suas próprias vantagens e desvantagens e pode ser mais ou menos adequada para diferentes conjuntos de dados e objetivos de análise. É importante avaliar cuidadosamente as opções disponíveis e escolher a técnica de imputação mais apropriada para cada caso específico."
      ]
    },
    {
      "cell_type": "markdown",
      "id": "31068f4f",
      "metadata": {
        "id": "31068f4f"
      },
      "source": [
        "Uma das formas mais utilizadas para preencher os valores faltantes de uma variável categórica, é utilizando a substituição por um valor pré-determinado, por exemplo:"
      ]
    },
    {
      "cell_type": "code",
      "execution_count": null,
      "id": "e2b32715",
      "metadata": {
        "id": "e2b32715"
      },
      "outputs": [],
      "source": [
        "#Carregar a base de dados contendo valores faltantes\n",
        "base_dados = pd.read_excel('Base Processamento.xlsx', sheet_name='base_amostra')"
      ]
    },
    {
      "cell_type": "code",
      "execution_count": null,
      "id": "0ed06a45",
      "metadata": {
        "scrolled": true,
        "id": "0ed06a45",
        "outputId": "6bd430c6-8c17-4aff-a8a6-cdba569a71c3"
      },
      "outputs": [
        {
          "name": "stdout",
          "output_type": "stream",
          "text": [
            "munResNome           \n",
            "Rio de Janeiro           3\n",
            "Natividade               2\n",
            "NaN                      2\n",
            "Campos dos Goytacazes    1\n",
            "Magé                     1\n",
            "Nova Friburgo            1\n",
            "Nova Iguaçu              1\n",
            "Queimados                1\n",
            "São Gonçalo              1\n",
            "Valença                  1\n",
            "dtype: int64\n",
            "\n",
            " NACIONAL\n",
            "Brasil      10\n",
            "NaN          4\n",
            "dtype: int64\n"
          ]
        }
      ],
      "source": [
        "print(base_dados[['munResNome']].value_counts(dropna=False))\n",
        "print('\\n',base_dados[['NACIONAL']].value_counts(dropna=False))"
      ]
    },
    {
      "cell_type": "code",
      "execution_count": null,
      "id": "275f88bd",
      "metadata": {
        "id": "275f88bd"
      },
      "outputs": [],
      "source": [
        "# Substituição por um valor definido em cada coluna\n",
        "base_dados = base_dados.fillna({'munResNome': 'Rio de Janeiro', 'NACIONAL': 'Brasil'})"
      ]
    },
    {
      "cell_type": "code",
      "execution_count": null,
      "id": "c6e9a9fb",
      "metadata": {
        "id": "c6e9a9fb",
        "outputId": "8110e57b-2e19-4fe9-a201-5904a7bd2d88"
      },
      "outputs": [
        {
          "name": "stdout",
          "output_type": "stream",
          "text": [
            "munResNome           \n",
            "Rio de Janeiro           5\n",
            "Natividade               2\n",
            "Campos dos Goytacazes    1\n",
            "Magé                     1\n",
            "Nova Friburgo            1\n",
            "Nova Iguaçu              1\n",
            "Queimados                1\n",
            "São Gonçalo              1\n",
            "Valença                  1\n",
            "dtype: int64\n",
            "\n",
            " NACIONAL\n",
            "Brasil      14\n",
            "dtype: int64\n"
          ]
        }
      ],
      "source": [
        "print(base_dados[['munResNome']].value_counts(dropna=False))\n",
        "print('\\n',base_dados[['NACIONAL']].value_counts(dropna=False))"
      ]
    },
    {
      "cell_type": "markdown",
      "id": "20ae3a5b",
      "metadata": {
        "id": "20ae3a5b"
      },
      "source": [
        "## Transformação dos Dados"
      ]
    },
    {
      "cell_type": "markdown",
      "id": "34376627",
      "metadata": {
        "id": "34376627"
      },
      "source": [
        "A Transformação de dados tem como objetivo modificar a distribuição ou formato dos dados para torná-los mais adequados para análise. As transformações de dados podem ser necessárias por vários motivos, incluindo:\n",
        "\n",
        "- Reduzir a variabilidade nos dados e torná-los mais homogêneos;\n",
        "- Melhorar a normalidade dos dados, o que é importante para muitas análises estatísticas;\n",
        "- Facilitar a interpretação dos dados;\n",
        "- Tornar os dados mais adequados para um determinado modelo de análise.\n",
        "\n",
        "\n",
        "Algumas das técnicas mais utilizadas para a transformação de dados incluem:\n",
        "\n",
        "**Normalização:** É útil para evitar que uma variável com uma escala maior domine a análise.\n",
        "\n",
        "**Padronização:** Técnica parecida com a normalização, mas envolve a transformação dos dados para ter uma distribuição normal padrão com média zero e desvio padrão igual a um.\n",
        "\n",
        "**Transformação logarítmica:** Muito utilizada para transformar dados positivos assimétricos para torná-los mais simétricos. Isso é útil para análises estatísticas que pressupõem normalidade dos dados.\n",
        "\n",
        "**Discretização:** Técnica que consiste em transformar variáveis contínuas em variáveis discretas. Isso pode ser útil para reduzir a complexidade dos dados ou para torná-los mais adequados para um determinado modelo de análise.\n",
        "\n",
        "\n",
        "Além dessas técnicas, existem muitos outros métodos de transformação de dados que podem ser utilizadas para ajudar a tornar os dados mais adequados para análise. A escolha da técnica dependerá dos objetivos específicos da análise e das características dos dados que estão sendo analisados."
      ]
    },
    {
      "cell_type": "markdown",
      "id": "08ed417c",
      "metadata": {
        "id": "08ed417c"
      },
      "source": [
        "### Normalização e padronização\n"
      ]
    },
    {
      "cell_type": "markdown",
      "id": "95762942",
      "metadata": {
        "id": "95762942"
      },
      "source": [
        "#### **Escalonamento padrão**:\n",
        "Técnica de normalização que transforma os dados para que eles possuam uma distribuição normal padrão com média zero e desvio padrão igual a um."
      ]
    },
    {
      "cell_type": "code",
      "execution_count": null,
      "id": "b7bd706d",
      "metadata": {
        "scrolled": true,
        "id": "b7bd706d",
        "outputId": "997a7945-25c3-4ee6-b508-26c1a82cfdf9"
      },
      "outputs": [
        {
          "data": {
            "text/html": [
              "<div>\n",
              "<style scoped>\n",
              "    .dataframe tbody tr th:only-of-type {\n",
              "        vertical-align: middle;\n",
              "    }\n",
              "\n",
              "    .dataframe tbody tr th {\n",
              "        vertical-align: top;\n",
              "    }\n",
              "\n",
              "    .dataframe thead th {\n",
              "        text-align: right;\n",
              "    }\n",
              "</style>\n",
              "<table border=\"1\" class=\"dataframe\">\n",
              "  <thead>\n",
              "    <tr style=\"text-align: right;\">\n",
              "      <th></th>\n",
              "      <th>VAL_SH</th>\n",
              "      <th>VAL_SP</th>\n",
              "      <th>US_TOT</th>\n",
              "    </tr>\n",
              "  </thead>\n",
              "  <tbody>\n",
              "    <tr>\n",
              "      <th>0</th>\n",
              "      <td>30025.18</td>\n",
              "      <td>4995.70</td>\n",
              "      <td>7419.67</td>\n",
              "    </tr>\n",
              "    <tr>\n",
              "      <th>1</th>\n",
              "      <td>27108.84</td>\n",
              "      <td>4265.16</td>\n",
              "      <td>6647.03</td>\n",
              "    </tr>\n",
              "    <tr>\n",
              "      <th>2</th>\n",
              "      <td>90108.26</td>\n",
              "      <td>NaN</td>\n",
              "      <td>22458.59</td>\n",
              "    </tr>\n",
              "    <tr>\n",
              "      <th>3</th>\n",
              "      <td>88533.96</td>\n",
              "      <td>13344.37</td>\n",
              "      <td>21584.39</td>\n",
              "    </tr>\n",
              "    <tr>\n",
              "      <th>4</th>\n",
              "      <td>55547.98</td>\n",
              "      <td>8670.39</td>\n",
              "      <td>NaN</td>\n",
              "    </tr>\n",
              "  </tbody>\n",
              "</table>\n",
              "</div>"
            ],
            "text/plain": [
              "     VAL_SH    VAL_SP    US_TOT\n",
              "0  30025.18   4995.70   7419.67\n",
              "1  27108.84   4265.16   6647.03\n",
              "2  90108.26       NaN  22458.59\n",
              "3  88533.96  13344.37  21584.39\n",
              "4  55547.98   8670.39       NaN"
            ]
          },
          "execution_count": 20,
          "metadata": {},
          "output_type": "execute_result"
        }
      ],
      "source": [
        "#Carregar a base de dados contendo valores numéricos\n",
        "base_dados = pd.read_excel('Base Processamento.xlsx', sheet_name='base_amostra')\n",
        "base_dados[['VAL_SH','VAL_SP','US_TOT']].head()"
      ]
    },
    {
      "cell_type": "code",
      "execution_count": null,
      "id": "ed00de93",
      "metadata": {
        "id": "ed00de93"
      },
      "outputs": [],
      "source": [
        "#Utilizando o sklearn para a padronização\n",
        "from sklearn.preprocessing import StandardScaler\n",
        "\n",
        "scaler = StandardScaler()\n",
        "dados_padronizados = scaler.fit_transform(base_dados[['VAL_SH','VAL_SP','US_TOT']]) #aplicar a padronização\n",
        "\n",
        "base_dados[['VAL_SH','VAL_SP','US_TOT']] = dados_padronizados #salvar na base de dados original"
      ]
    },
    {
      "cell_type": "code",
      "execution_count": null,
      "id": "c84abf64",
      "metadata": {
        "id": "c84abf64",
        "outputId": "b37fc30c-5f88-4f2e-e041-f80b3d392907"
      },
      "outputs": [
        {
          "data": {
            "text/html": [
              "<div>\n",
              "<style scoped>\n",
              "    .dataframe tbody tr th:only-of-type {\n",
              "        vertical-align: middle;\n",
              "    }\n",
              "\n",
              "    .dataframe tbody tr th {\n",
              "        vertical-align: top;\n",
              "    }\n",
              "\n",
              "    .dataframe thead th {\n",
              "        text-align: right;\n",
              "    }\n",
              "</style>\n",
              "<table border=\"1\" class=\"dataframe\">\n",
              "  <thead>\n",
              "    <tr style=\"text-align: right;\">\n",
              "      <th></th>\n",
              "      <th>SEXO</th>\n",
              "      <th>ESPEC</th>\n",
              "      <th>DIAR_ACOM</th>\n",
              "      <th>QT_DIARIAS</th>\n",
              "      <th>VAL_SH</th>\n",
              "      <th>VAL_SP</th>\n",
              "      <th>US_TOT</th>\n",
              "      <th>DT_INTER</th>\n",
              "      <th>ESCOLARIDADE</th>\n",
              "      <th>IDADE</th>\n",
              "      <th>DIAS_PERM</th>\n",
              "      <th>MORTE</th>\n",
              "      <th>NACIONAL</th>\n",
              "      <th>GESTRISCO</th>\n",
              "      <th>munResNome</th>\n",
              "    </tr>\n",
              "  </thead>\n",
              "  <tbody>\n",
              "    <tr>\n",
              "      <th>0</th>\n",
              "      <td>Feminino</td>\n",
              "      <td>Cirúrgico</td>\n",
              "      <td>0</td>\n",
              "      <td>73</td>\n",
              "      <td>-1.284153</td>\n",
              "      <td>-0.997986</td>\n",
              "      <td>-1.295109</td>\n",
              "      <td>2021-06-30</td>\n",
              "      <td>FUNDAMENTAL</td>\n",
              "      <td>56</td>\n",
              "      <td>297</td>\n",
              "      <td>1</td>\n",
              "      <td>Brasil</td>\n",
              "      <td>Sim</td>\n",
              "      <td>NaN</td>\n",
              "    </tr>\n",
              "    <tr>\n",
              "      <th>1</th>\n",
              "      <td>Masculino</td>\n",
              "      <td>Pediátricos</td>\n",
              "      <td>0</td>\n",
              "      <td>0</td>\n",
              "      <td>-1.432845</td>\n",
              "      <td>-1.161939</td>\n",
              "      <td>-1.451942</td>\n",
              "      <td>2021-08-20</td>\n",
              "      <td>MEDIO</td>\n",
              "      <td>2</td>\n",
              "      <td>200</td>\n",
              "      <td>1</td>\n",
              "      <td>Brasil</td>\n",
              "      <td>Não</td>\n",
              "      <td>NaN</td>\n",
              "    </tr>\n",
              "    <tr>\n",
              "      <th>2</th>\n",
              "      <td>Feminino</td>\n",
              "      <td>Pediátricos</td>\n",
              "      <td>0</td>\n",
              "      <td>21</td>\n",
              "      <td>1.779222</td>\n",
              "      <td>NaN</td>\n",
              "      <td>1.757533</td>\n",
              "      <td>2021-09-25</td>\n",
              "      <td>SUPERIOR</td>\n",
              "      <td>0</td>\n",
              "      <td>167</td>\n",
              "      <td>0</td>\n",
              "      <td>Brasil</td>\n",
              "      <td>Sim</td>\n",
              "      <td>São Gonçalo</td>\n",
              "    </tr>\n",
              "    <tr>\n",
              "      <th>3</th>\n",
              "      <td>Masculino</td>\n",
              "      <td>Clínicos</td>\n",
              "      <td>1</td>\n",
              "      <td>1</td>\n",
              "      <td>1.698955</td>\n",
              "      <td>0.875678</td>\n",
              "      <td>1.580085</td>\n",
              "      <td>2021-09-16</td>\n",
              "      <td>MEDIO</td>\n",
              "      <td>65</td>\n",
              "      <td>128</td>\n",
              "      <td>1</td>\n",
              "      <td>Brasil</td>\n",
              "      <td>Sim</td>\n",
              "      <td>Campos dos Goytacazes</td>\n",
              "    </tr>\n",
              "    <tr>\n",
              "      <th>4</th>\n",
              "      <td>Feminino</td>\n",
              "      <td>Pediátricos</td>\n",
              "      <td>0</td>\n",
              "      <td>1</td>\n",
              "      <td>0.017143</td>\n",
              "      <td>-0.173288</td>\n",
              "      <td>NaN</td>\n",
              "      <td>2021-10-29</td>\n",
              "      <td>SUPERIOR</td>\n",
              "      <td>26</td>\n",
              "      <td>126</td>\n",
              "      <td>0</td>\n",
              "      <td>Brasil</td>\n",
              "      <td>Sim</td>\n",
              "      <td>Magé</td>\n",
              "    </tr>\n",
              "  </tbody>\n",
              "</table>\n",
              "</div>"
            ],
            "text/plain": [
              "        SEXO        ESPEC  DIAR_ACOM  QT_DIARIAS    VAL_SH    VAL_SP  \\\n",
              "0   Feminino    Cirúrgico          0          73 -1.284153 -0.997986   \n",
              "1  Masculino  Pediátricos          0           0 -1.432845 -1.161939   \n",
              "2   Feminino  Pediátricos          0          21  1.779222       NaN   \n",
              "3  Masculino     Clínicos          1           1  1.698955  0.875678   \n",
              "4   Feminino  Pediátricos          0           1  0.017143 -0.173288   \n",
              "\n",
              "     US_TOT   DT_INTER ESCOLARIDADE  IDADE  DIAS_PERM  MORTE NACIONAL  \\\n",
              "0 -1.295109 2021-06-30  FUNDAMENTAL     56        297      1   Brasil   \n",
              "1 -1.451942 2021-08-20        MEDIO      2        200      1   Brasil   \n",
              "2  1.757533 2021-09-25     SUPERIOR      0        167      0   Brasil   \n",
              "3  1.580085 2021-09-16        MEDIO     65        128      1   Brasil   \n",
              "4       NaN 2021-10-29     SUPERIOR     26        126      0   Brasil   \n",
              "\n",
              "  GESTRISCO             munResNome  \n",
              "0       Sim                    NaN  \n",
              "1       Não                    NaN  \n",
              "2       Sim            São Gonçalo  \n",
              "3       Sim  Campos dos Goytacazes  \n",
              "4       Sim                   Magé  "
            ]
          },
          "execution_count": 22,
          "metadata": {},
          "output_type": "execute_result"
        }
      ],
      "source": [
        "base_dados.head()"
      ]
    },
    {
      "cell_type": "markdown",
      "id": "e63162c1",
      "metadata": {
        "id": "e63162c1"
      },
      "source": [
        "#### **Escalonamento mínimo-máximo (MinMax):**\n",
        "Técnica de normalização de variáveis que dimensiona todos os valores de uma variável para uma faixa entre 0 e 1."
      ]
    },
    {
      "cell_type": "code",
      "execution_count": null,
      "id": "c2d338ca",
      "metadata": {
        "id": "c2d338ca",
        "outputId": "0c728d3b-1af5-43f7-a360-36c8daf8eaa7"
      },
      "outputs": [
        {
          "data": {
            "text/html": [
              "<div>\n",
              "<style scoped>\n",
              "    .dataframe tbody tr th:only-of-type {\n",
              "        vertical-align: middle;\n",
              "    }\n",
              "\n",
              "    .dataframe tbody tr th {\n",
              "        vertical-align: top;\n",
              "    }\n",
              "\n",
              "    .dataframe thead th {\n",
              "        text-align: right;\n",
              "    }\n",
              "</style>\n",
              "<table border=\"1\" class=\"dataframe\">\n",
              "  <thead>\n",
              "    <tr style=\"text-align: right;\">\n",
              "      <th></th>\n",
              "      <th>VAL_SH</th>\n",
              "      <th>VAL_SP</th>\n",
              "      <th>US_TOT</th>\n",
              "    </tr>\n",
              "  </thead>\n",
              "  <tbody>\n",
              "    <tr>\n",
              "      <th>0</th>\n",
              "      <td>30025.18</td>\n",
              "      <td>4995.70</td>\n",
              "      <td>7419.67</td>\n",
              "    </tr>\n",
              "    <tr>\n",
              "      <th>1</th>\n",
              "      <td>27108.84</td>\n",
              "      <td>4265.16</td>\n",
              "      <td>6647.03</td>\n",
              "    </tr>\n",
              "    <tr>\n",
              "      <th>2</th>\n",
              "      <td>90108.26</td>\n",
              "      <td>NaN</td>\n",
              "      <td>22458.59</td>\n",
              "    </tr>\n",
              "    <tr>\n",
              "      <th>3</th>\n",
              "      <td>88533.96</td>\n",
              "      <td>13344.37</td>\n",
              "      <td>21584.39</td>\n",
              "    </tr>\n",
              "    <tr>\n",
              "      <th>4</th>\n",
              "      <td>55547.98</td>\n",
              "      <td>8670.39</td>\n",
              "      <td>NaN</td>\n",
              "    </tr>\n",
              "  </tbody>\n",
              "</table>\n",
              "</div>"
            ],
            "text/plain": [
              "     VAL_SH    VAL_SP    US_TOT\n",
              "0  30025.18   4995.70   7419.67\n",
              "1  27108.84   4265.16   6647.03\n",
              "2  90108.26       NaN  22458.59\n",
              "3  88533.96  13344.37  21584.39\n",
              "4  55547.98   8670.39       NaN"
            ]
          },
          "execution_count": 23,
          "metadata": {},
          "output_type": "execute_result"
        }
      ],
      "source": [
        "#Carregar a base de dados contendo valores numéricos\n",
        "base_dados = pd.read_excel('Base Processamento.xlsx', sheet_name='base_amostra')\n",
        "base_dados[['VAL_SH','VAL_SP','US_TOT']].head()"
      ]
    },
    {
      "cell_type": "code",
      "execution_count": null,
      "id": "f6fd1d94",
      "metadata": {
        "id": "f6fd1d94"
      },
      "outputs": [],
      "source": [
        "from sklearn.preprocessing import MinMaxScaler #Carregar a função\n",
        "\n",
        "scaler = MinMaxScaler() #Definir os parâmetros da função\n",
        "dados_padronizados = scaler.fit_transform(base_dados[['VAL_SH','VAL_SP','US_TOT']]) #aplicar o minmax\n",
        "\n",
        "base_dados[['VAL_SH','VAL_SP','US_TOT']] = dados_padronizados #salvar na base de dados original"
      ]
    },
    {
      "cell_type": "code",
      "execution_count": null,
      "id": "a5073d54",
      "metadata": {
        "id": "a5073d54",
        "outputId": "0eec823f-7beb-46e2-a30c-3a484b90fe35"
      },
      "outputs": [
        {
          "data": {
            "text/html": [
              "<div>\n",
              "<style scoped>\n",
              "    .dataframe tbody tr th:only-of-type {\n",
              "        vertical-align: middle;\n",
              "    }\n",
              "\n",
              "    .dataframe tbody tr th {\n",
              "        vertical-align: top;\n",
              "    }\n",
              "\n",
              "    .dataframe thead th {\n",
              "        text-align: right;\n",
              "    }\n",
              "</style>\n",
              "<table border=\"1\" class=\"dataframe\">\n",
              "  <thead>\n",
              "    <tr style=\"text-align: right;\">\n",
              "      <th></th>\n",
              "      <th>VAL_SH</th>\n",
              "      <th>VAL_SP</th>\n",
              "      <th>US_TOT</th>\n",
              "    </tr>\n",
              "  </thead>\n",
              "  <tbody>\n",
              "    <tr>\n",
              "      <th>0</th>\n",
              "      <td>0.046292</td>\n",
              "      <td>0.045397</td>\n",
              "      <td>0.048866</td>\n",
              "    </tr>\n",
              "    <tr>\n",
              "      <th>1</th>\n",
              "      <td>0.000000</td>\n",
              "      <td>0.000000</td>\n",
              "      <td>0.000000</td>\n",
              "    </tr>\n",
              "    <tr>\n",
              "      <th>2</th>\n",
              "      <td>1.000000</td>\n",
              "      <td>NaN</td>\n",
              "      <td>1.000000</td>\n",
              "    </tr>\n",
              "    <tr>\n",
              "      <th>3</th>\n",
              "      <td>0.975011</td>\n",
              "      <td>0.564198</td>\n",
              "      <td>0.944711</td>\n",
              "    </tr>\n",
              "    <tr>\n",
              "      <th>4</th>\n",
              "      <td>0.451419</td>\n",
              "      <td>0.273749</td>\n",
              "      <td>NaN</td>\n",
              "    </tr>\n",
              "  </tbody>\n",
              "</table>\n",
              "</div>"
            ],
            "text/plain": [
              "     VAL_SH    VAL_SP    US_TOT\n",
              "0  0.046292  0.045397  0.048866\n",
              "1  0.000000  0.000000  0.000000\n",
              "2  1.000000       NaN  1.000000\n",
              "3  0.975011  0.564198  0.944711\n",
              "4  0.451419  0.273749       NaN"
            ]
          },
          "execution_count": 25,
          "metadata": {},
          "output_type": "execute_result"
        }
      ],
      "source": [
        "base_dados[['VAL_SH','VAL_SP','US_TOT']].head()"
      ]
    },
    {
      "cell_type": "markdown",
      "id": "3577aa32",
      "metadata": {
        "id": "3577aa32"
      },
      "source": [
        "### Variáveis catetegóricas"
      ]
    },
    {
      "cell_type": "markdown",
      "id": "43220b3a",
      "metadata": {
        "id": "43220b3a"
      },
      "source": [
        "Normalização e padronização geralmente se referem a técnicas de pré-processamento de dados usadas para tratar variáveis **numéricas contínuas**, e não são aplicáveis diretamente a variáveis categóricas.\n",
        "\n",
        "Para algumas técnicas de modelagem, é necessário que todas as variáveis sejam numéricas. Nesses casos, podemos converter variáveis categóricas em numéricas usando técnicas como codificação one-hot ou codificação ordinal."
      ]
    },
    {
      "cell_type": "markdown",
      "id": "f62626b3",
      "metadata": {
        "id": "f62626b3"
      },
      "source": [
        "#### Codificação da variável (Label Encoder)"
      ]
    },
    {
      "cell_type": "code",
      "execution_count": null,
      "id": "18e1ed28",
      "metadata": {
        "id": "18e1ed28",
        "outputId": "4b4fadee-25a2-4e1c-8953-4d05b9dde181"
      },
      "outputs": [
        {
          "data": {
            "text/html": [
              "<div>\n",
              "<style scoped>\n",
              "    .dataframe tbody tr th:only-of-type {\n",
              "        vertical-align: middle;\n",
              "    }\n",
              "\n",
              "    .dataframe tbody tr th {\n",
              "        vertical-align: top;\n",
              "    }\n",
              "\n",
              "    .dataframe thead th {\n",
              "        text-align: right;\n",
              "    }\n",
              "</style>\n",
              "<table border=\"1\" class=\"dataframe\">\n",
              "  <thead>\n",
              "    <tr style=\"text-align: right;\">\n",
              "      <th></th>\n",
              "      <th>SEXO</th>\n",
              "    </tr>\n",
              "  </thead>\n",
              "  <tbody>\n",
              "    <tr>\n",
              "      <th>0</th>\n",
              "      <td>Feminino</td>\n",
              "    </tr>\n",
              "    <tr>\n",
              "      <th>1</th>\n",
              "      <td>Masculino</td>\n",
              "    </tr>\n",
              "    <tr>\n",
              "      <th>2</th>\n",
              "      <td>Feminino</td>\n",
              "    </tr>\n",
              "    <tr>\n",
              "      <th>3</th>\n",
              "      <td>Masculino</td>\n",
              "    </tr>\n",
              "    <tr>\n",
              "      <th>4</th>\n",
              "      <td>Feminino</td>\n",
              "    </tr>\n",
              "  </tbody>\n",
              "</table>\n",
              "</div>"
            ],
            "text/plain": [
              "        SEXO\n",
              "0   Feminino\n",
              "1  Masculino\n",
              "2   Feminino\n",
              "3  Masculino\n",
              "4   Feminino"
            ]
          },
          "execution_count": 26,
          "metadata": {},
          "output_type": "execute_result"
        }
      ],
      "source": [
        "#Carregar a base de dados contendo valores numéricos\n",
        "base_dados = pd.read_excel('Base Processamento.xlsx', sheet_name='base_amostra')\n",
        "base_dados[['SEXO']].head()"
      ]
    },
    {
      "cell_type": "code",
      "execution_count": null,
      "id": "a4ca53ea",
      "metadata": {
        "id": "a4ca53ea"
      },
      "outputs": [],
      "source": [
        "from sklearn import preprocessing\n",
        "label_encoder = preprocessing.LabelEncoder()"
      ]
    },
    {
      "cell_type": "code",
      "execution_count": null,
      "id": "d6019697",
      "metadata": {
        "scrolled": true,
        "id": "d6019697",
        "outputId": "4617eecc-19bf-445c-b948-fc44ee484561"
      },
      "outputs": [
        {
          "data": {
            "text/html": [
              "<div>\n",
              "<style scoped>\n",
              "    .dataframe tbody tr th:only-of-type {\n",
              "        vertical-align: middle;\n",
              "    }\n",
              "\n",
              "    .dataframe tbody tr th {\n",
              "        vertical-align: top;\n",
              "    }\n",
              "\n",
              "    .dataframe thead th {\n",
              "        text-align: right;\n",
              "    }\n",
              "</style>\n",
              "<table border=\"1\" class=\"dataframe\">\n",
              "  <thead>\n",
              "    <tr style=\"text-align: right;\">\n",
              "      <th></th>\n",
              "      <th>SEXO</th>\n",
              "    </tr>\n",
              "  </thead>\n",
              "  <tbody>\n",
              "    <tr>\n",
              "      <th>0</th>\n",
              "      <td>0</td>\n",
              "    </tr>\n",
              "    <tr>\n",
              "      <th>1</th>\n",
              "      <td>1</td>\n",
              "    </tr>\n",
              "    <tr>\n",
              "      <th>2</th>\n",
              "      <td>0</td>\n",
              "    </tr>\n",
              "    <tr>\n",
              "      <th>3</th>\n",
              "      <td>1</td>\n",
              "    </tr>\n",
              "    <tr>\n",
              "      <th>4</th>\n",
              "      <td>0</td>\n",
              "    </tr>\n",
              "  </tbody>\n",
              "</table>\n",
              "</div>"
            ],
            "text/plain": [
              "   SEXO\n",
              "0     0\n",
              "1     1\n",
              "2     0\n",
              "3     1\n",
              "4     0"
            ]
          },
          "execution_count": 28,
          "metadata": {},
          "output_type": "execute_result"
        }
      ],
      "source": [
        "base_dados['SEXO'] = label_encoder.fit_transform(base_dados['SEXO'])\n",
        "base_dados[['SEXO']].head()"
      ]
    },
    {
      "cell_type": "markdown",
      "id": "003e05c1",
      "metadata": {
        "id": "003e05c1"
      },
      "source": [
        "#### Codificação variável ordinal"
      ]
    },
    {
      "cell_type": "markdown",
      "id": "25bab3b3",
      "metadata": {
        "id": "25bab3b3"
      },
      "source": [
        "A codificação de variáveis ordinais é parecida com a codificação de variáveis categóricas, mas a ordem das categorias deve ser levada em consideração."
      ]
    },
    {
      "cell_type": "code",
      "execution_count": null,
      "id": "48c2ca5c",
      "metadata": {
        "id": "48c2ca5c",
        "outputId": "574e2512-b326-4b1f-88b3-4be649bf2807"
      },
      "outputs": [
        {
          "data": {
            "text/html": [
              "<div>\n",
              "<style scoped>\n",
              "    .dataframe tbody tr th:only-of-type {\n",
              "        vertical-align: middle;\n",
              "    }\n",
              "\n",
              "    .dataframe tbody tr th {\n",
              "        vertical-align: top;\n",
              "    }\n",
              "\n",
              "    .dataframe thead th {\n",
              "        text-align: right;\n",
              "    }\n",
              "</style>\n",
              "<table border=\"1\" class=\"dataframe\">\n",
              "  <thead>\n",
              "    <tr style=\"text-align: right;\">\n",
              "      <th></th>\n",
              "      <th>ESCOLARIDADE</th>\n",
              "    </tr>\n",
              "  </thead>\n",
              "  <tbody>\n",
              "    <tr>\n",
              "      <th>0</th>\n",
              "      <td>FUNDAMENTAL</td>\n",
              "    </tr>\n",
              "    <tr>\n",
              "      <th>1</th>\n",
              "      <td>MEDIO</td>\n",
              "    </tr>\n",
              "    <tr>\n",
              "      <th>2</th>\n",
              "      <td>SUPERIOR</td>\n",
              "    </tr>\n",
              "    <tr>\n",
              "      <th>3</th>\n",
              "      <td>MEDIO</td>\n",
              "    </tr>\n",
              "    <tr>\n",
              "      <th>4</th>\n",
              "      <td>SUPERIOR</td>\n",
              "    </tr>\n",
              "  </tbody>\n",
              "</table>\n",
              "</div>"
            ],
            "text/plain": [
              "  ESCOLARIDADE\n",
              "0  FUNDAMENTAL\n",
              "1        MEDIO\n",
              "2     SUPERIOR\n",
              "3        MEDIO\n",
              "4     SUPERIOR"
            ]
          },
          "execution_count": 29,
          "metadata": {},
          "output_type": "execute_result"
        }
      ],
      "source": [
        "#Carregar a base de dados contendo valores numéricos\n",
        "base_dados = pd.read_excel('Base Processamento.xlsx', sheet_name='base_amostra')\n",
        "base_dados[['ESCOLARIDADE']].head()"
      ]
    },
    {
      "cell_type": "code",
      "execution_count": null,
      "id": "d124f47a",
      "metadata": {
        "id": "d124f47a"
      },
      "outputs": [],
      "source": [
        "from sklearn.preprocessing import OrdinalEncoder"
      ]
    },
    {
      "cell_type": "code",
      "execution_count": null,
      "id": "05a2adbe",
      "metadata": {
        "id": "05a2adbe"
      },
      "outputs": [],
      "source": [
        "to = OrdinalEncoder(categories=[['FUNDAMENTAL','MEDIO','SUPERIOR']])"
      ]
    },
    {
      "cell_type": "code",
      "execution_count": null,
      "id": "49c03c1a",
      "metadata": {
        "id": "49c03c1a",
        "outputId": "a3a9a5e8-991e-48ee-bab0-8a27252462ac"
      },
      "outputs": [
        {
          "data": {
            "text/html": [
              "<div>\n",
              "<style scoped>\n",
              "    .dataframe tbody tr th:only-of-type {\n",
              "        vertical-align: middle;\n",
              "    }\n",
              "\n",
              "    .dataframe tbody tr th {\n",
              "        vertical-align: top;\n",
              "    }\n",
              "\n",
              "    .dataframe thead th {\n",
              "        text-align: right;\n",
              "    }\n",
              "</style>\n",
              "<table border=\"1\" class=\"dataframe\">\n",
              "  <thead>\n",
              "    <tr style=\"text-align: right;\">\n",
              "      <th></th>\n",
              "      <th>ESCOLARIDADE</th>\n",
              "    </tr>\n",
              "  </thead>\n",
              "  <tbody>\n",
              "    <tr>\n",
              "      <th>0</th>\n",
              "      <td>0.0</td>\n",
              "    </tr>\n",
              "    <tr>\n",
              "      <th>1</th>\n",
              "      <td>1.0</td>\n",
              "    </tr>\n",
              "    <tr>\n",
              "      <th>2</th>\n",
              "      <td>2.0</td>\n",
              "    </tr>\n",
              "    <tr>\n",
              "      <th>3</th>\n",
              "      <td>1.0</td>\n",
              "    </tr>\n",
              "    <tr>\n",
              "      <th>4</th>\n",
              "      <td>2.0</td>\n",
              "    </tr>\n",
              "  </tbody>\n",
              "</table>\n",
              "</div>"
            ],
            "text/plain": [
              "   ESCOLARIDADE\n",
              "0           0.0\n",
              "1           1.0\n",
              "2           2.0\n",
              "3           1.0\n",
              "4           2.0"
            ]
          },
          "execution_count": 32,
          "metadata": {},
          "output_type": "execute_result"
        }
      ],
      "source": [
        "base_dados[['ESCOLARIDADE']] = to.fit_transform(base_dados[['ESCOLARIDADE']])\n",
        "base_dados[['ESCOLARIDADE']].head()"
      ]
    },
    {
      "cell_type": "markdown",
      "id": "4ee61fc9",
      "metadata": {
        "id": "4ee61fc9"
      },
      "source": [
        "#### Codificação One-Hot"
      ]
    },
    {
      "cell_type": "markdown",
      "id": "8d08f347",
      "metadata": {
        "id": "8d08f347"
      },
      "source": [
        "A codificação one-hot (também conhecida como codificação de variáveis categóricas nominais) é uma técnica usada para transformar variáveis categóricas em variáveis numéricas binárias. Cada categoria da variável categórica é transformada em uma nova variável binária que indica se a observação pertence ou não a essa categoria. Podemos utilizar a função **get_dummies()** do pandas para essa transformação."
      ]
    },
    {
      "cell_type": "code",
      "execution_count": null,
      "id": "611bc2fc",
      "metadata": {
        "id": "611bc2fc",
        "outputId": "3d0612d3-17a3-4526-e9d3-99ecfc900a11"
      },
      "outputs": [
        {
          "data": {
            "text/html": [
              "<div>\n",
              "<style scoped>\n",
              "    .dataframe tbody tr th:only-of-type {\n",
              "        vertical-align: middle;\n",
              "    }\n",
              "\n",
              "    .dataframe tbody tr th {\n",
              "        vertical-align: top;\n",
              "    }\n",
              "\n",
              "    .dataframe thead th {\n",
              "        text-align: right;\n",
              "    }\n",
              "</style>\n",
              "<table border=\"1\" class=\"dataframe\">\n",
              "  <thead>\n",
              "    <tr style=\"text-align: right;\">\n",
              "      <th></th>\n",
              "      <th>SEXO</th>\n",
              "    </tr>\n",
              "  </thead>\n",
              "  <tbody>\n",
              "    <tr>\n",
              "      <th>0</th>\n",
              "      <td>Feminino</td>\n",
              "    </tr>\n",
              "    <tr>\n",
              "      <th>1</th>\n",
              "      <td>Masculino</td>\n",
              "    </tr>\n",
              "    <tr>\n",
              "      <th>2</th>\n",
              "      <td>Feminino</td>\n",
              "    </tr>\n",
              "    <tr>\n",
              "      <th>3</th>\n",
              "      <td>Masculino</td>\n",
              "    </tr>\n",
              "    <tr>\n",
              "      <th>4</th>\n",
              "      <td>Feminino</td>\n",
              "    </tr>\n",
              "  </tbody>\n",
              "</table>\n",
              "</div>"
            ],
            "text/plain": [
              "        SEXO\n",
              "0   Feminino\n",
              "1  Masculino\n",
              "2   Feminino\n",
              "3  Masculino\n",
              "4   Feminino"
            ]
          },
          "execution_count": 33,
          "metadata": {},
          "output_type": "execute_result"
        }
      ],
      "source": [
        "#Carregar a base de dados contendo valores numéricos\n",
        "base_dados = pd.read_excel('Base Processamento.xlsx', sheet_name='base_amostra')\n",
        "base_dados[['SEXO']].head()"
      ]
    },
    {
      "cell_type": "code",
      "execution_count": null,
      "id": "67ce02fe",
      "metadata": {
        "id": "67ce02fe"
      },
      "outputs": [],
      "source": [
        "base_dados = pd.get_dummies(base_dados,columns=['SEXO'])"
      ]
    },
    {
      "cell_type": "code",
      "execution_count": null,
      "id": "73066b83",
      "metadata": {
        "id": "73066b83",
        "outputId": "7101ca41-a88b-4e21-a6e6-191af8510ff0"
      },
      "outputs": [
        {
          "data": {
            "text/html": [
              "<div>\n",
              "<style scoped>\n",
              "    .dataframe tbody tr th:only-of-type {\n",
              "        vertical-align: middle;\n",
              "    }\n",
              "\n",
              "    .dataframe tbody tr th {\n",
              "        vertical-align: top;\n",
              "    }\n",
              "\n",
              "    .dataframe thead th {\n",
              "        text-align: right;\n",
              "    }\n",
              "</style>\n",
              "<table border=\"1\" class=\"dataframe\">\n",
              "  <thead>\n",
              "    <tr style=\"text-align: right;\">\n",
              "      <th></th>\n",
              "      <th>ESPEC</th>\n",
              "      <th>DIAR_ACOM</th>\n",
              "      <th>QT_DIARIAS</th>\n",
              "      <th>VAL_SH</th>\n",
              "      <th>VAL_SP</th>\n",
              "      <th>US_TOT</th>\n",
              "      <th>DT_INTER</th>\n",
              "      <th>ESCOLARIDADE</th>\n",
              "      <th>IDADE</th>\n",
              "      <th>DIAS_PERM</th>\n",
              "      <th>MORTE</th>\n",
              "      <th>NACIONAL</th>\n",
              "      <th>GESTRISCO</th>\n",
              "      <th>munResNome</th>\n",
              "      <th>SEXO_Feminino</th>\n",
              "      <th>SEXO_Masculino</th>\n",
              "    </tr>\n",
              "  </thead>\n",
              "  <tbody>\n",
              "    <tr>\n",
              "      <th>0</th>\n",
              "      <td>Cirúrgico</td>\n",
              "      <td>0</td>\n",
              "      <td>73</td>\n",
              "      <td>30025.18</td>\n",
              "      <td>4995.70</td>\n",
              "      <td>7419.67</td>\n",
              "      <td>2021-06-30</td>\n",
              "      <td>FUNDAMENTAL</td>\n",
              "      <td>56</td>\n",
              "      <td>297</td>\n",
              "      <td>1</td>\n",
              "      <td>Brasil</td>\n",
              "      <td>Sim</td>\n",
              "      <td>NaN</td>\n",
              "      <td>1</td>\n",
              "      <td>0</td>\n",
              "    </tr>\n",
              "    <tr>\n",
              "      <th>1</th>\n",
              "      <td>Pediátricos</td>\n",
              "      <td>0</td>\n",
              "      <td>0</td>\n",
              "      <td>27108.84</td>\n",
              "      <td>4265.16</td>\n",
              "      <td>6647.03</td>\n",
              "      <td>2021-08-20</td>\n",
              "      <td>MEDIO</td>\n",
              "      <td>2</td>\n",
              "      <td>200</td>\n",
              "      <td>1</td>\n",
              "      <td>Brasil</td>\n",
              "      <td>Não</td>\n",
              "      <td>NaN</td>\n",
              "      <td>0</td>\n",
              "      <td>1</td>\n",
              "    </tr>\n",
              "    <tr>\n",
              "      <th>2</th>\n",
              "      <td>Pediátricos</td>\n",
              "      <td>0</td>\n",
              "      <td>21</td>\n",
              "      <td>90108.26</td>\n",
              "      <td>NaN</td>\n",
              "      <td>22458.59</td>\n",
              "      <td>2021-09-25</td>\n",
              "      <td>SUPERIOR</td>\n",
              "      <td>0</td>\n",
              "      <td>167</td>\n",
              "      <td>0</td>\n",
              "      <td>Brasil</td>\n",
              "      <td>Sim</td>\n",
              "      <td>São Gonçalo</td>\n",
              "      <td>1</td>\n",
              "      <td>0</td>\n",
              "    </tr>\n",
              "    <tr>\n",
              "      <th>3</th>\n",
              "      <td>Clínicos</td>\n",
              "      <td>1</td>\n",
              "      <td>1</td>\n",
              "      <td>88533.96</td>\n",
              "      <td>13344.37</td>\n",
              "      <td>21584.39</td>\n",
              "      <td>2021-09-16</td>\n",
              "      <td>MEDIO</td>\n",
              "      <td>65</td>\n",
              "      <td>128</td>\n",
              "      <td>1</td>\n",
              "      <td>Brasil</td>\n",
              "      <td>Sim</td>\n",
              "      <td>Campos dos Goytacazes</td>\n",
              "      <td>0</td>\n",
              "      <td>1</td>\n",
              "    </tr>\n",
              "    <tr>\n",
              "      <th>4</th>\n",
              "      <td>Pediátricos</td>\n",
              "      <td>0</td>\n",
              "      <td>1</td>\n",
              "      <td>55547.98</td>\n",
              "      <td>8670.39</td>\n",
              "      <td>NaN</td>\n",
              "      <td>2021-10-29</td>\n",
              "      <td>SUPERIOR</td>\n",
              "      <td>26</td>\n",
              "      <td>126</td>\n",
              "      <td>0</td>\n",
              "      <td>Brasil</td>\n",
              "      <td>Sim</td>\n",
              "      <td>Magé</td>\n",
              "      <td>1</td>\n",
              "      <td>0</td>\n",
              "    </tr>\n",
              "  </tbody>\n",
              "</table>\n",
              "</div>"
            ],
            "text/plain": [
              "         ESPEC  DIAR_ACOM  QT_DIARIAS    VAL_SH    VAL_SP    US_TOT  \\\n",
              "0    Cirúrgico          0          73  30025.18   4995.70   7419.67   \n",
              "1  Pediátricos          0           0  27108.84   4265.16   6647.03   \n",
              "2  Pediátricos          0          21  90108.26       NaN  22458.59   \n",
              "3     Clínicos          1           1  88533.96  13344.37  21584.39   \n",
              "4  Pediátricos          0           1  55547.98   8670.39       NaN   \n",
              "\n",
              "    DT_INTER ESCOLARIDADE  IDADE  DIAS_PERM  MORTE NACIONAL GESTRISCO  \\\n",
              "0 2021-06-30  FUNDAMENTAL     56        297      1   Brasil       Sim   \n",
              "1 2021-08-20        MEDIO      2        200      1   Brasil       Não   \n",
              "2 2021-09-25     SUPERIOR      0        167      0   Brasil       Sim   \n",
              "3 2021-09-16        MEDIO     65        128      1   Brasil       Sim   \n",
              "4 2021-10-29     SUPERIOR     26        126      0   Brasil       Sim   \n",
              "\n",
              "              munResNome  SEXO_Feminino  SEXO_Masculino  \n",
              "0                    NaN              1               0  \n",
              "1                    NaN              0               1  \n",
              "2            São Gonçalo              1               0  \n",
              "3  Campos dos Goytacazes              0               1  \n",
              "4                   Magé              1               0  "
            ]
          },
          "execution_count": 35,
          "metadata": {},
          "output_type": "execute_result"
        }
      ],
      "source": [
        "base_dados.head()"
      ]
    },
    {
      "cell_type": "markdown",
      "id": "2fd4b66d",
      "metadata": {
        "id": "2fd4b66d"
      },
      "source": [
        "Uma vez que as variáveis categóricas foram convertidas em variáveis numéricas, é possível aplicar técnicas de normalização e padronização como descritas anteriormente. No entanto, é importante lembrar que a normalização e padronização de variáveis categóricas podem não ser necessárias para todos os modelos e conjuntos de dados, e a escolha da técnica de codificação e pré-processamento dependerá do objetivo da análise e das características dos dados em questão."
      ]
    },
    {
      "cell_type": "markdown",
      "id": "499cf4c3",
      "metadata": {
        "id": "499cf4c3"
      },
      "source": [
        "### Trabalhando com Outliers"
      ]
    },
    {
      "cell_type": "markdown",
      "id": "978ac799",
      "metadata": {
        "id": "978ac799"
      },
      "source": [
        "O tratamento de valores outliers depende do contexto e do objetivo da análise. Em algumas situações, pode ser necessário remover os outliers, enquanto em outras, é possível mantê-los e tratá-los de alguma forma.\n",
        "\n",
        "Uma das formas mais utilizadas para tratar valores outliers é substituí-los por um valor mais adequado. Isso pode ser feito **utilizando técnicas de imputação**, como por exemplo, substituir o valor outlier pela média, mediana ou moda dos valores não-outliers.\n",
        "\n",
        "LEMBRETE: Essa abordagem deve ser usada com cuidado, pois pode distorcer as características da distribuição dos dados.\n",
        "\n",
        "Podemos utilizar outras abordagens como:\n",
        "- **Transformação logarítmica**, que pode reduzir o impacto dos valores outliers na análise.\n",
        "- **Padronização dos dados**, que reduz a influência dos valores extremos.\n",
        "- **Análise de Componentes Principais (PCA)**, que pode identificar valores que estão fora do padrão em relação ao restante dos dados.\n",
        "\n",
        "É importante destacar que a remoção de outliers deve ser realizada com cautela e somente após uma análise cuidadosa do conjunto de dados. A exclusão de valores pode afetar a distribuição dos dados e prejudicar a análise. Portanto, é importante avaliar as consequências de cada técnica antes de decidir como tratar os valores outliers.\n"
      ]
    },
    {
      "cell_type": "markdown",
      "id": "4ce475b8",
      "metadata": {
        "id": "4ce475b8"
      },
      "source": [
        "#### Método de IQQ\n",
        "\n",
        "Baseado no intervalo interquartil (IQQ), que é a diferença entre o quartil superior e o quartil inferior. Consiste em calcular o IQQ dos dados e, em seguida, remover qualquer ponto que esteja a uma distância maior que um múltiplo específico do IQR acima do quartil superior ou abaixo do quartil inferior. Um valor comum é 1,5 vezes o IQQ."
      ]
    },
    {
      "cell_type": "code",
      "execution_count": null,
      "id": "1f9ca4c1",
      "metadata": {
        "id": "1f9ca4c1",
        "outputId": "6a6b57fd-b059-4ea9-a307-3686cd84be6a"
      },
      "outputs": [
        {
          "data": {
            "text/plain": [
              "<AxesSubplot:>"
            ]
          },
          "execution_count": 36,
          "metadata": {},
          "output_type": "execute_result"
        },
        {
          "data": {
            "image/png": "[encoded data removed]",
            "text/plain": [
              "<Figure size 640x480 with 1 Axes>"
            ]
          },
          "metadata": {},
          "output_type": "display_data"
        }
      ],
      "source": [
        "#Carregar a base de dados contendo valores numéricos\n",
        "base_dados = pd.read_excel('Base Processamento.xlsx', sheet_name='base_amostra')\n",
        "base_dados['VAL_SP'].fillna(base_dados['VAL_SP'].mean(),inplace=True)\n",
        "base_dados[['VAL_SP']].boxplot()"
      ]
    },
    {
      "cell_type": "code",
      "execution_count": null,
      "id": "d89dc58e",
      "metadata": {
        "id": "d89dc58e"
      },
      "outputs": [],
      "source": [
        "import numpy as np\n",
        "\n",
        "# Calcula o quartil inferior e superior\n",
        "q1 = np.percentile(base_dados['VAL_SP'], 25)\n",
        "q3 = np.percentile(base_dados['VAL_SP'], 75)"
      ]
    },
    {
      "cell_type": "code",
      "execution_count": null,
      "id": "4f27c8ee",
      "metadata": {
        "id": "4f27c8ee",
        "outputId": "d0505802-daef-4fd2-8588-ed466132fc98"
      },
      "outputs": [
        {
          "name": "stdout",
          "output_type": "stream",
          "text": [
            "Limite Inferior:  1362.145113636364\n",
            "Limite Superior 16364.131477272727\n"
          ]
        }
      ],
      "source": [
        "# Calcula o IQQ\n",
        "iqq = q3 - q1\n",
        "\n",
        "# Define o limite inferior e superior para remover outliers\n",
        "limite_inferior = q1 - 1.5 * iqq\n",
        "limite_superior = q3 + 1.5 * iqq\n",
        "\n",
        "print('Limite Inferior: ',limite_inferior)\n",
        "print('Limite Superior',limite_superior)"
      ]
    },
    {
      "cell_type": "code",
      "execution_count": null,
      "id": "0c45fcd1",
      "metadata": {
        "scrolled": false,
        "id": "0c45fcd1",
        "outputId": "a7922d25-4925-45a5-a76c-9cdd7ab49a95"
      },
      "outputs": [
        {
          "data": {
            "text/plain": [
              "<AxesSubplot:>"
            ]
          },
          "execution_count": 39,
          "metadata": {},
          "output_type": "execute_result"
        }
      ],
      "source": [
        "# Filtra os valores fora do limite\n",
        "base_filtrada = base_dados[(base_dados['VAL_SP'] > limite_inferior) & (base_dados['VAL_SP'] < limite_superior)]\n",
        "pd.DataFrame(base_filtrada['VAL_SP']).boxplot()"
      ]
    },
    {
      "cell_type": "markdown",
      "id": "b6794ad0",
      "metadata": {
        "id": "b6794ad0"
      },
      "source": [
        "Além dessa abordagem, é possível tratar os valores outliers da seguinte forma:\n",
        "\n",
        "- **Seleção manual**, filtrando os dados que devem fazer parte da análise.\n",
        "- **Análise Estatística**: Utilizando os desvios ou Z-Score\n",
        "- **Algoritmos**: É possível utilizar algoritmos como por exemplo o isolation forest que pode identificar os valores mais isolados de uma base de dados.\n",
        "\n",
        "Apenas devemos levar em consideração, que para cada técnica, é necessário verificar se é a mais adequada para a abordagem a ser utilizada"
      ]
    },
    {
      "cell_type": "markdown",
      "id": "9cc4c220",
      "metadata": {
        "id": "9cc4c220"
      },
      "source": [
        "Para mais funções de processamento de tratamento dos dados, acesse a documentação do sklearn em: [module-sklearn.preprocessing](https://scikit-learn.org/stable/modules/classes.html#module-sklearn.preprocessing)"
      ]
    }
  ],
  "metadata": {
    "kernelspec": {
      "display_name": "Python 3 (ipykernel)",
      "language": "python",
      "name": "python3"
    },
    "language_info": {
      "codemirror_mode": {
        "name": "ipython",
        "version": 3
      },
      "file_extension": ".py",
      "mimetype": "text/x-python",
      "name": "python",
      "nbconvert_exporter": "python",
      "pygments_lexer": "ipython3",
      "version": "3.9.13"
    },
    "colab": {
      "provenance": []
    }
  },
  "nbformat": 4,
  "nbformat_minor": 5
}