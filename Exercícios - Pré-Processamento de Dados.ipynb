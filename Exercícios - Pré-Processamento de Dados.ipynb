{
 "cells": [
  {
   "cell_type": "markdown",
   "id": "4528d487",
   "metadata": {},
   "source": [
    "# Exercício Pré-processamento de Dados"
   ]
  },
  {
   "cell_type": "markdown",
   "id": "f09304d1",
   "metadata": {},
   "source": [
    "Para o exercício a seguir será utilizada a base: **Base Processamento.xlsx**, que contém uma amostra dos dados coletados pelo Sistema de Informações Hospitalares, que consiste em um relevante instrumento de informação para orientar o gestor nas tomadas de decisão relacionadas ao planejamento das ações de saúde, inclusive para a vigilância em saúde e morbidade/mortalidade hospitalar do município ou do estado. \n",
    "\n",
    "O banco de dados possui 28 variáveis e 20.000 observações. Faça uma análise exploratória de dados e verifique quais as variáveis que mais impactam a mortalidade e se é possível prever essa variável.\n",
    "\n",
    "No roteiro abaixo existem algumas sugestões de etapas e pontos de atenção, porém, não é necessário seguir a mesma ordem ou dinâmica sugerida. Utilize seus conhecimentos gerais para tratar esses dados. "
   ]
  },
  {
   "cell_type": "markdown",
   "id": "5f231044",
   "metadata": {},
   "source": [
    "### Carregue o Banco de dados\n",
    "\n",
    "Base processamento.xlsx, sheet='base'"
   ]
  },
  {
   "cell_type": "markdown",
   "id": "69c628f1",
   "metadata": {},
   "source": [
    "### Análise Exploratória de Dados\n",
    "Comece realizando uma análise exploratória de dados para identificar as características do conjunto de dados"
   ]
  },
  {
   "cell_type": "markdown",
   "id": "eb113b79",
   "metadata": {},
   "source": [
    "### Pré-processamento dos Dados\n",
    "- Verifique a estrutura dos dados\n",
    "- Verifique valores faltantes\n",
    "- Verifique a necessidade de padronização das variáveis"
   ]
  },
  {
   "cell_type": "markdown",
   "id": "87f7a9df",
   "metadata": {},
   "source": [
    "### Modelagem\n",
    "- Identifique o modelo que se aplica para o problema\n",
    "- Avalie as métricas do modelo\n",
    "- Existe diferença de resultados após padronizar ou categorizar os dados?\n",
    "- É possível prever a variável target?\n",
    "- Quais as variáveis que mais explicam o resultado?"
   ]
  }
 ],
 "metadata": {
  "kernelspec": {
   "display_name": "Python 3 (ipykernel)",
   "language": "python",
   "name": "python3"
  },
  "language_info": {
   "codemirror_mode": {
    "name": "ipython",
    "version": 3
   },
   "file_extension": ".py",
   "mimetype": "text/x-python",
   "name": "python",
   "nbconvert_exporter": "python",
   "pygments_lexer": "ipython3",
   "version": "3.9.13"
  }
 },
 "nbformat": 4,
 "nbformat_minor": 5
}
